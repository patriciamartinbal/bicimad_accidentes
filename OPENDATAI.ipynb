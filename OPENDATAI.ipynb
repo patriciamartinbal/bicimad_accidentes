{
 "cells": [
  {
   "cell_type": "markdown",
   "metadata": {},
   "source": [
    "# Proyecto Open Data I"
   ]
  },
  {
   "cell_type": "markdown",
   "metadata": {},
   "source": [
    "### ANÁLISIS DE DATOS BICIMAD Y ACCIDENTES DE TRÁFICO CON IMPLICACIÓN DE BICICLETAS EN MADRID"
   ]
  },
  {
   "cell_type": "markdown",
   "metadata": {},
   "source": [
    "### Introducción"
   ]
  },
  {
   "cell_type": "markdown",
   "metadata": {},
   "source": [
    "El objetivo principal de nuestro proyecto Open Data era emplear datos abiertos para la realización de un análisis de datos a través de Python.\n",
    "\n",
    "Este proyecto tiene como pilares dos elementos:\n",
    "\n",
    "* Open data\n",
    "* Análisis exploratorio de datos\n",
    "\n",
    "Hemos trabajado de la mano del open data ya que es lo que nos proporcionaba la fuente de datos que empleamos para este proyecto.\n",
    "\n",
    "Indgamos en un análisis de los datos que obtenemos, aparte de la limpieza y el cuidado de estos datos, ya que es la información detrás de estos datos lo que de verdad esconde el valor latente de estos últimos. En el actual contexto del Big Data, el análisis de los datos ha tomado un papel inédito, especialmente relevante a la hora de realizar la toma de decisones. Se puede emplear en diversos campos y es muy flexible, permitiendo sacarle una miriada de utilidades.\n",
    "\n",
    "En nuestro proyecto manejamos datos de BiciMad, el servicio de alquiler de bicicletas públicas de la Comunidad de Madrid, y de accidentes de tráfico con implicación de bicicletas en Madrid. Con estos datos que hemos obtenido hemos podido investigar desde la movilidad ciclista de la ciudad hasta poder sacar conclusiones sobre posibles correlaciones entre ambos conjuntos de datos. Empleando técnicas de limpieza de datos, de modelado, y de graficación hemos montado un proyecto que nos ha permitido sumergirnos en el análisis que perseguíamos como fin. "
   ]
  },
  {
   "cell_type": "markdown",
   "metadata": {},
   "source": [
    "### Datos: BiciMAD"
   ]
  },
  {
   "cell_type": "markdown",
   "metadata": {},
   "source": [
    "El servicio BiciMAD trata del alquiler de bicicletas públicas en Madrid. Es un servicio dirigido a todos los ciudadanos y visitantes de la ciudad de Madrid, presentado como alternativa de transporte sostenible limpio y saludable. Este es el principal objetivo de BiciMAD junto con fomentar el uso de la bicicleta en la ciudad.\n",
    "\n",
    "El servicio de bicicleta pública está sujeto a unas tarifas aprobadas por el Ayuntamiento de Madrid, las cuales incluyen un seguro que cubre cualquier percance sufrido durante su utilización. \n",
    "\n",
    "El horario de funcionamiento es de forma ininterrumpida durante las 24 horas del día los 365 días del año.\n",
    "\n",
    "El portal de datos abiertos de la Comunidad de Madrid ofrece un amplio dataset dedicado a BiciMAD. Nosotras hemos trabajado con los siguientes datasets procedentes de este portal:\n",
    "\n",
    "1. **Alta de usuarios y usos por día del servicio público de bicicleta eléctrica.**\n",
    "\n",
    "En este conjunto de datos se encuentra la información día a día de: \n",
    "\n",
    "* **Usuarios:** nuevas altas diarias en el sistema en sus dos modalidades (abonos anuales y ocasionales)\n",
    "\n",
    "* **Usos:** número total diario de usos de la bicicleta. Esta información se presenta en csv (datos del último mes y datos acumulados desde el inicio de la prestación del servicio) y también en Excel.\n",
    "\n",
    "Hemos tenido acceso a datos desde su puesta en funcionamiento en junio de 2014.\n",
    "\n",
    "\n",
    "2. **Bases del servicio público de bicicleta eléctrica de la ciudad de Madrid.**\n",
    "\n",
    "Cada estación se compone del tótem (CIC) que es el centro de interacción con el ciclista y de los anclajes para la colocación de las bicicletas."
   ]
  },
  {
   "cell_type": "markdown",
   "metadata": {},
   "source": [
    "#### Acondicionamiento del entorno de trabajo"
   ]
  },
  {
   "cell_type": "markdown",
   "metadata": {},
   "source": [
    "Una vez que tenemos seleccionados los datos con los que queriamos trabajar, preparamos el entorno de trabajo con el que ibamos a desarrollar el proyecto.\n",
    "Ya que ibamos a trabajar de la mano de python, hemos empleado la herramienta Anaconda para conectarnos a JupyterLab.\n",
    "\n",
    "Lo primero, una vez preparado el entorno de trabajo, consistió en importar los datos; para ello utilizamos la librería pandas, con la que decidimos trabajar para el proyecto en su totalidad."
   ]
  },
  {
   "cell_type": "code",
   "execution_count": 1,
   "metadata": {},
   "outputs": [],
   "source": [
    "# Antes de nada, importamos warnings para evitar los warnings en algunos métodos\n",
    "import warnings\n",
    "warnings.filterwarnings('ignore')"
   ]
  },
  {
   "cell_type": "code",
   "execution_count": 2,
   "metadata": {},
   "outputs": [
    {
     "name": "stdout",
     "output_type": "stream",
     "text": [
      "<SparkContext master=local[*] appName=PySparkShell>\n"
     ]
    }
   ],
   "source": [
    "print(sc)"
   ]
  },
  {
   "cell_type": "code",
   "execution_count": 3,
   "metadata": {},
   "outputs": [],
   "source": [
    "import pandas as pd"
   ]
  },
  {
   "cell_type": "markdown",
   "metadata": {},
   "source": [
    "#### Limpieza de Datos"
   ]
  },
  {
   "cell_type": "markdown",
   "metadata": {},
   "source": [
    "A continuación modelamos distintos dataframes para cada dataset:"
   ]
  },
  {
   "cell_type": "markdown",
   "metadata": {},
   "source": [
    "* **dfUsuarios:** nos va a mostrar los datos de los usuarios de BiciMad."
   ]
  },
  {
   "cell_type": "code",
   "execution_count": 4,
   "metadata": {},
   "outputs": [
    {
     "data": {
      "text/plain": [
       "u'/Users/patrimballesteros/Documents/2\\xba ING MATEMA\\u0301TICA /S1/Proyecto Open Data I'"
      ]
     },
     "execution_count": 4,
     "metadata": {},
     "output_type": "execute_result"
    }
   ],
   "source": [
    "pwd"
   ]
  },
  {
   "cell_type": "code",
   "execution_count": 5,
   "metadata": {},
   "outputs": [
    {
     "data": {
      "text/html": [
       "<div>\n",
       "<style scoped>\n",
       "    .dataframe tbody tr th:only-of-type {\n",
       "        vertical-align: middle;\n",
       "    }\n",
       "\n",
       "    .dataframe tbody tr th {\n",
       "        vertical-align: top;\n",
       "    }\n",
       "\n",
       "    .dataframe thead th {\n",
       "        text-align: right;\n",
       "    }\n",
       "</style>\n",
       "<table border=\"1\" class=\"dataframe\">\n",
       "  <thead>\n",
       "    <tr style=\"text-align: right;\">\n",
       "      <th></th>\n",
       "      <th>Dia</th>\n",
       "      <th>Altas nuevos usuarios activos ab. anual sin ttp dia</th>\n",
       "      <th>Altas nuevos usuarios activos ab. anual con ttp dia</th>\n",
       "      <th>Altas nuevos usuarios activos ab. anual total dia</th>\n",
       "      <th>Unnamed: 4</th>\n",
       "      <th>Usuarios activos ab. anual sin ttp acumulado desde inicio</th>\n",
       "      <th>Usuarios activos ab. anual con ttp acumulado desde inicio</th>\n",
       "      <th>Usuarios activos ab. anual total acumulado desde inicio</th>\n",
       "    </tr>\n",
       "  </thead>\n",
       "  <tbody>\n",
       "    <tr>\n",
       "      <th>0</th>\n",
       "      <td>2014-06-23</td>\n",
       "      <td>47.0</td>\n",
       "      <td>44.0</td>\n",
       "      <td>91.0</td>\n",
       "      <td>NaN</td>\n",
       "      <td>47.0</td>\n",
       "      <td>44.0</td>\n",
       "      <td>91.0</td>\n",
       "    </tr>\n",
       "    <tr>\n",
       "      <th>1</th>\n",
       "      <td>2014-06-24</td>\n",
       "      <td>21.0</td>\n",
       "      <td>19.0</td>\n",
       "      <td>40.0</td>\n",
       "      <td>NaN</td>\n",
       "      <td>68.0</td>\n",
       "      <td>63.0</td>\n",
       "      <td>131.0</td>\n",
       "    </tr>\n",
       "    <tr>\n",
       "      <th>2</th>\n",
       "      <td>2014-06-25</td>\n",
       "      <td>193.0</td>\n",
       "      <td>180.0</td>\n",
       "      <td>373.0</td>\n",
       "      <td>NaN</td>\n",
       "      <td>261.0</td>\n",
       "      <td>243.0</td>\n",
       "      <td>504.0</td>\n",
       "    </tr>\n",
       "    <tr>\n",
       "      <th>3</th>\n",
       "      <td>2014-06-26</td>\n",
       "      <td>150.0</td>\n",
       "      <td>113.0</td>\n",
       "      <td>263.0</td>\n",
       "      <td>NaN</td>\n",
       "      <td>411.0</td>\n",
       "      <td>356.0</td>\n",
       "      <td>767.0</td>\n",
       "    </tr>\n",
       "    <tr>\n",
       "      <th>4</th>\n",
       "      <td>2014-06-27</td>\n",
       "      <td>185.0</td>\n",
       "      <td>155.0</td>\n",
       "      <td>340.0</td>\n",
       "      <td>NaN</td>\n",
       "      <td>596.0</td>\n",
       "      <td>511.0</td>\n",
       "      <td>1107.0</td>\n",
       "    </tr>\n",
       "  </tbody>\n",
       "</table>\n",
       "</div>"
      ],
      "text/plain": [
       "         Dia  Altas nuevos usuarios activos ab. anual sin ttp dia  \\\n",
       "0 2014-06-23                                               47.0     \n",
       "1 2014-06-24                                               21.0     \n",
       "2 2014-06-25                                              193.0     \n",
       "3 2014-06-26                                              150.0     \n",
       "4 2014-06-27                                              185.0     \n",
       "\n",
       "   Altas nuevos usuarios activos ab. anual con ttp dia  \\\n",
       "0                                               44.0     \n",
       "1                                               19.0     \n",
       "2                                              180.0     \n",
       "3                                              113.0     \n",
       "4                                              155.0     \n",
       "\n",
       "   Altas nuevos usuarios activos ab. anual total dia  Unnamed: 4  \\\n",
       "0                                               91.0         NaN   \n",
       "1                                               40.0         NaN   \n",
       "2                                              373.0         NaN   \n",
       "3                                              263.0         NaN   \n",
       "4                                              340.0         NaN   \n",
       "\n",
       "   Usuarios activos ab. anual sin ttp acumulado desde inicio  \\\n",
       "0                                               47.0           \n",
       "1                                               68.0           \n",
       "2                                              261.0           \n",
       "3                                              411.0           \n",
       "4                                              596.0           \n",
       "\n",
       "   Usuarios activos ab. anual con ttp acumulado desde inicio  \\\n",
       "0                                               44.0           \n",
       "1                                               63.0           \n",
       "2                                              243.0           \n",
       "3                                              356.0           \n",
       "4                                              511.0           \n",
       "\n",
       "   Usuarios activos ab. anual total acumulado desde inicio  \n",
       "0                                               91.0        \n",
       "1                                              131.0        \n",
       "2                                              504.0        \n",
       "3                                              767.0        \n",
       "4                                             1107.0        "
      ]
     },
     "execution_count": 5,
     "metadata": {},
     "output_type": "execute_result"
    }
   ],
   "source": [
    "# Creamos un dataframe que muestre el dataset de USUARIOS\n",
    "dfUsuarios = pd.read_excel('bicis_usuarios_abonos.xls')\n",
    "dfUsuarios.head()"
   ]
  },
  {
   "cell_type": "code",
   "execution_count": 6,
   "metadata": {},
   "outputs": [
    {
     "data": {
      "text/plain": [
       "[u'Dia',\n",
       " u'Altas nuevos usuarios activos ab. anual sin ttp dia',\n",
       " u'Altas nuevos usuarios activos ab. anual con ttp dia',\n",
       " u'Altas nuevos usuarios activos ab. anual total dia',\n",
       " 'Unnamed: 4',\n",
       " u'Usuarios activos ab. anual sin ttp acumulado desde inicio',\n",
       " u'Usuarios activos ab. anual con ttp acumulado desde inicio',\n",
       " u'Usuarios activos ab. anual total acumulado desde inicio']"
      ]
     },
     "execution_count": 6,
     "metadata": {},
     "output_type": "execute_result"
    }
   ],
   "source": [
    "list(dfUsuarios.columns.values)"
   ]
  },
  {
   "cell_type": "markdown",
   "metadata": {},
   "source": [
    "A continuación proseguimos a la limpieza de datos, que consistió en lo siguiente:\n",
    "\n",
    "*\tBorramos columna ‘Unnamed: 4’ ya que estaba vacía y no aportaba ninguna información útil.\n",
    "\n",
    "*\tYa que importamos los datos en formato Excel, nos encontramos muchas filas vacias bajo denominación ‘NaN’ que a su vez nos aportaban ningún dato relevante. Por lo tanto también los borramos.\n"
   ]
  },
  {
   "cell_type": "code",
   "execution_count": 50,
   "metadata": {
    "scrolled": true
   },
   "outputs": [
    {
     "data": {
      "text/html": [
       "<div>\n",
       "<style scoped>\n",
       "    .dataframe tbody tr th:only-of-type {\n",
       "        vertical-align: middle;\n",
       "    }\n",
       "\n",
       "    .dataframe tbody tr th {\n",
       "        vertical-align: top;\n",
       "    }\n",
       "\n",
       "    .dataframe thead th {\n",
       "        text-align: right;\n",
       "    }\n",
       "</style>\n",
       "<table border=\"1\" class=\"dataframe\">\n",
       "  <thead>\n",
       "    <tr style=\"text-align: right;\">\n",
       "      <th></th>\n",
       "      <th>Día</th>\n",
       "      <th>Altas nuevos usuarios activos ab. anual sin ttp día</th>\n",
       "      <th>Altas nuevos usuarios activos ab. anual con ttp día</th>\n",
       "      <th>Altas nuevos usuarios activos ab. anual total día</th>\n",
       "      <th>Usuarios activos ab. anual sin ttp acumulado desde inicio</th>\n",
       "      <th>Usuarios activos ab. anual con ttp acumulado desde inicio</th>\n",
       "      <th>Usuarios activos ab. anual total acumulado desde inicio</th>\n",
       "    </tr>\n",
       "  </thead>\n",
       "  <tbody>\n",
       "    <tr>\n",
       "      <th>0</th>\n",
       "      <td>2014-06-23</td>\n",
       "      <td>47.0</td>\n",
       "      <td>44.0</td>\n",
       "      <td>91.0</td>\n",
       "      <td>47.0</td>\n",
       "      <td>44.0</td>\n",
       "      <td>91.0</td>\n",
       "    </tr>\n",
       "    <tr>\n",
       "      <th>1</th>\n",
       "      <td>2014-06-24</td>\n",
       "      <td>21.0</td>\n",
       "      <td>19.0</td>\n",
       "      <td>40.0</td>\n",
       "      <td>68.0</td>\n",
       "      <td>63.0</td>\n",
       "      <td>131.0</td>\n",
       "    </tr>\n",
       "    <tr>\n",
       "      <th>2</th>\n",
       "      <td>2014-06-25</td>\n",
       "      <td>193.0</td>\n",
       "      <td>180.0</td>\n",
       "      <td>373.0</td>\n",
       "      <td>261.0</td>\n",
       "      <td>243.0</td>\n",
       "      <td>504.0</td>\n",
       "    </tr>\n",
       "    <tr>\n",
       "      <th>3</th>\n",
       "      <td>2014-06-26</td>\n",
       "      <td>150.0</td>\n",
       "      <td>113.0</td>\n",
       "      <td>263.0</td>\n",
       "      <td>411.0</td>\n",
       "      <td>356.0</td>\n",
       "      <td>767.0</td>\n",
       "    </tr>\n",
       "    <tr>\n",
       "      <th>4</th>\n",
       "      <td>2014-06-27</td>\n",
       "      <td>185.0</td>\n",
       "      <td>155.0</td>\n",
       "      <td>340.0</td>\n",
       "      <td>596.0</td>\n",
       "      <td>511.0</td>\n",
       "      <td>1107.0</td>\n",
       "    </tr>\n",
       "  </tbody>\n",
       "</table>\n",
       "</div>"
      ],
      "text/plain": [
       "         Día  Altas nuevos usuarios activos ab. anual sin ttp día  \\\n",
       "0 2014-06-23                                               47.0     \n",
       "1 2014-06-24                                               21.0     \n",
       "2 2014-06-25                                              193.0     \n",
       "3 2014-06-26                                              150.0     \n",
       "4 2014-06-27                                              185.0     \n",
       "\n",
       "   Altas nuevos usuarios activos ab. anual con ttp día  \\\n",
       "0                                               44.0     \n",
       "1                                               19.0     \n",
       "2                                              180.0     \n",
       "3                                              113.0     \n",
       "4                                              155.0     \n",
       "\n",
       "   Altas nuevos usuarios activos ab. anual total día  \\\n",
       "0                                               91.0   \n",
       "1                                               40.0   \n",
       "2                                              373.0   \n",
       "3                                              263.0   \n",
       "4                                              340.0   \n",
       "\n",
       "   Usuarios activos ab. anual sin ttp acumulado desde inicio  \\\n",
       "0                                               47.0           \n",
       "1                                               68.0           \n",
       "2                                              261.0           \n",
       "3                                              411.0           \n",
       "4                                              596.0           \n",
       "\n",
       "   Usuarios activos ab. anual con ttp acumulado desde inicio  \\\n",
       "0                                               44.0           \n",
       "1                                               63.0           \n",
       "2                                              243.0           \n",
       "3                                              356.0           \n",
       "4                                              511.0           \n",
       "\n",
       "   Usuarios activos ab. anual total acumulado desde inicio  \n",
       "0                                               91.0        \n",
       "1                                              131.0        \n",
       "2                                              504.0        \n",
       "3                                              767.0        \n",
       "4                                             1107.0        "
      ]
     },
     "execution_count": 50,
     "metadata": {},
     "output_type": "execute_result"
    }
   ],
   "source": [
    "# Eliminamos la columna 'Unnamed: 4' ya que no hay datos\n",
    "del dfUsuarios['Unnamed: 4']\n",
    "dfUsuarios.head()"
   ]
  },
  {
   "cell_type": "markdown",
   "metadata": {},
   "source": [
    "Aquí podemos ver que las últimas filas consisten todas de valores NaT y NaN.\n",
    "Por lo tanto, después de haber comprobado que todas las casillas tenían valores nulos, procedimos a emplear el método dropna() para suprimir todos los estos valores nulos. "
   ]
  },
  {
   "cell_type": "code",
   "execution_count": 51,
   "metadata": {},
   "outputs": [
    {
     "data": {
      "text/html": [
       "<div>\n",
       "<style scoped>\n",
       "    .dataframe tbody tr th:only-of-type {\n",
       "        vertical-align: middle;\n",
       "    }\n",
       "\n",
       "    .dataframe tbody tr th {\n",
       "        vertical-align: top;\n",
       "    }\n",
       "\n",
       "    .dataframe thead th {\n",
       "        text-align: right;\n",
       "    }\n",
       "</style>\n",
       "<table border=\"1\" class=\"dataframe\">\n",
       "  <thead>\n",
       "    <tr style=\"text-align: right;\">\n",
       "      <th></th>\n",
       "      <th>Día</th>\n",
       "      <th>Altas nuevos usuarios activos ab. anual sin ttp día</th>\n",
       "      <th>Altas nuevos usuarios activos ab. anual con ttp día</th>\n",
       "      <th>Altas nuevos usuarios activos ab. anual total día</th>\n",
       "      <th>Usuarios activos ab. anual sin ttp acumulado desde inicio</th>\n",
       "      <th>Usuarios activos ab. anual con ttp acumulado desde inicio</th>\n",
       "      <th>Usuarios activos ab. anual total acumulado desde inicio</th>\n",
       "    </tr>\n",
       "  </thead>\n",
       "  <tbody>\n",
       "    <tr>\n",
       "      <th>0</th>\n",
       "      <td>2014-06-23</td>\n",
       "      <td>47.0</td>\n",
       "      <td>44.0</td>\n",
       "      <td>91.0</td>\n",
       "      <td>47.0</td>\n",
       "      <td>44.0</td>\n",
       "      <td>91.0</td>\n",
       "    </tr>\n",
       "    <tr>\n",
       "      <th>1</th>\n",
       "      <td>2014-06-24</td>\n",
       "      <td>21.0</td>\n",
       "      <td>19.0</td>\n",
       "      <td>40.0</td>\n",
       "      <td>68.0</td>\n",
       "      <td>63.0</td>\n",
       "      <td>131.0</td>\n",
       "    </tr>\n",
       "    <tr>\n",
       "      <th>2</th>\n",
       "      <td>2014-06-25</td>\n",
       "      <td>193.0</td>\n",
       "      <td>180.0</td>\n",
       "      <td>373.0</td>\n",
       "      <td>261.0</td>\n",
       "      <td>243.0</td>\n",
       "      <td>504.0</td>\n",
       "    </tr>\n",
       "    <tr>\n",
       "      <th>3</th>\n",
       "      <td>2014-06-26</td>\n",
       "      <td>150.0</td>\n",
       "      <td>113.0</td>\n",
       "      <td>263.0</td>\n",
       "      <td>411.0</td>\n",
       "      <td>356.0</td>\n",
       "      <td>767.0</td>\n",
       "    </tr>\n",
       "    <tr>\n",
       "      <th>4</th>\n",
       "      <td>2014-06-27</td>\n",
       "      <td>185.0</td>\n",
       "      <td>155.0</td>\n",
       "      <td>340.0</td>\n",
       "      <td>596.0</td>\n",
       "      <td>511.0</td>\n",
       "      <td>1107.0</td>\n",
       "    </tr>\n",
       "  </tbody>\n",
       "</table>\n",
       "</div>"
      ],
      "text/plain": [
       "         Día  Altas nuevos usuarios activos ab. anual sin ttp día  \\\n",
       "0 2014-06-23                                               47.0     \n",
       "1 2014-06-24                                               21.0     \n",
       "2 2014-06-25                                              193.0     \n",
       "3 2014-06-26                                              150.0     \n",
       "4 2014-06-27                                              185.0     \n",
       "\n",
       "   Altas nuevos usuarios activos ab. anual con ttp día  \\\n",
       "0                                               44.0     \n",
       "1                                               19.0     \n",
       "2                                              180.0     \n",
       "3                                              113.0     \n",
       "4                                              155.0     \n",
       "\n",
       "   Altas nuevos usuarios activos ab. anual total día  \\\n",
       "0                                               91.0   \n",
       "1                                               40.0   \n",
       "2                                              373.0   \n",
       "3                                              263.0   \n",
       "4                                              340.0   \n",
       "\n",
       "   Usuarios activos ab. anual sin ttp acumulado desde inicio  \\\n",
       "0                                               47.0           \n",
       "1                                               68.0           \n",
       "2                                              261.0           \n",
       "3                                              411.0           \n",
       "4                                              596.0           \n",
       "\n",
       "   Usuarios activos ab. anual con ttp acumulado desde inicio  \\\n",
       "0                                               44.0           \n",
       "1                                               63.0           \n",
       "2                                              243.0           \n",
       "3                                              356.0           \n",
       "4                                              511.0           \n",
       "\n",
       "   Usuarios activos ab. anual total acumulado desde inicio  \n",
       "0                                               91.0        \n",
       "1                                              131.0        \n",
       "2                                              504.0        \n",
       "3                                              767.0        \n",
       "4                                             1107.0        "
      ]
     },
     "execution_count": 51,
     "metadata": {},
     "output_type": "execute_result"
    }
   ],
   "source": [
    "# Borramos valores NaN y NaT\n",
    "dfUsuarios.dropna().head()"
   ]
  },
  {
   "cell_type": "code",
   "execution_count": 10,
   "metadata": {},
   "outputs": [],
   "source": [
    "spDF = sqlContext.createDataFrame(dfUsuarios)"
   ]
  },
  {
   "cell_type": "code",
   "execution_count": 11,
   "metadata": {},
   "outputs": [],
   "source": [
    "rdd1=spDF.rdd.repartition(1)"
   ]
  },
  {
   "cell_type": "code",
   "execution_count": 12,
   "metadata": {},
   "outputs": [],
   "source": [
    "rdd1.saveAsTextFile('/Users/patrimballesteros/Desktop/rddUsuarios.txt') "
   ]
  },
  {
   "cell_type": "markdown",
   "metadata": {},
   "source": [
    "* **dfUsos:** Para el conjunto de datos sobre el uso de las bicicletas creamos un dataframe llamado dfUsos.\n",
    "\n",
    "La limpieza en este caso simplemente trató en borrar dos columnas: ‘Unnamed: 4’ y ‘Unnamed: 8’; tras haber hecho la misma comprobación que en la anterior de que no hubiese ningun dato util en esas columnas."
   ]
  },
  {
   "cell_type": "code",
   "execution_count": 15,
   "metadata": {},
   "outputs": [
    {
     "data": {
      "text/html": [
       "<div>\n",
       "<style scoped>\n",
       "    .dataframe tbody tr th:only-of-type {\n",
       "        vertical-align: middle;\n",
       "    }\n",
       "\n",
       "    .dataframe tbody tr th {\n",
       "        vertical-align: top;\n",
       "    }\n",
       "\n",
       "    .dataframe thead th {\n",
       "        text-align: right;\n",
       "    }\n",
       "</style>\n",
       "<table border=\"1\" class=\"dataframe\">\n",
       "  <thead>\n",
       "    <tr style=\"text-align: right;\">\n",
       "      <th></th>\n",
       "      <th>DIA</th>\n",
       "      <th>Usos bicis abono anual</th>\n",
       "      <th>Usos bicis abono ocasional</th>\n",
       "      <th>Usos bicis total</th>\n",
       "      <th>Unnamed: 4</th>\n",
       "      <th>Usos abono anual acumulado</th>\n",
       "      <th>Usos abono ocasional acumulado</th>\n",
       "      <th>Usos total acumulado desde inicio</th>\n",
       "      <th>Unnamed: 8</th>\n",
       "      <th>Acumulado mes total</th>\n",
       "    </tr>\n",
       "  </thead>\n",
       "  <tbody>\n",
       "    <tr>\n",
       "      <th>0</th>\n",
       "      <td>2014-06-23</td>\n",
       "      <td>17</td>\n",
       "      <td>79</td>\n",
       "      <td>96</td>\n",
       "      <td>NaN</td>\n",
       "      <td>17</td>\n",
       "      <td>79</td>\n",
       "      <td>96</td>\n",
       "      <td>NaN</td>\n",
       "      <td>NaN</td>\n",
       "    </tr>\n",
       "    <tr>\n",
       "      <th>1</th>\n",
       "      <td>2014-06-24</td>\n",
       "      <td>24</td>\n",
       "      <td>47</td>\n",
       "      <td>71</td>\n",
       "      <td>NaN</td>\n",
       "      <td>41</td>\n",
       "      <td>126</td>\n",
       "      <td>167</td>\n",
       "      <td>NaN</td>\n",
       "      <td>NaN</td>\n",
       "    </tr>\n",
       "    <tr>\n",
       "      <th>2</th>\n",
       "      <td>2014-06-25</td>\n",
       "      <td>105</td>\n",
       "      <td>14</td>\n",
       "      <td>119</td>\n",
       "      <td>NaN</td>\n",
       "      <td>146</td>\n",
       "      <td>140</td>\n",
       "      <td>286</td>\n",
       "      <td>NaN</td>\n",
       "      <td>NaN</td>\n",
       "    </tr>\n",
       "    <tr>\n",
       "      <th>3</th>\n",
       "      <td>2014-06-26</td>\n",
       "      <td>120</td>\n",
       "      <td>15</td>\n",
       "      <td>135</td>\n",
       "      <td>NaN</td>\n",
       "      <td>266</td>\n",
       "      <td>155</td>\n",
       "      <td>421</td>\n",
       "      <td>NaN</td>\n",
       "      <td>NaN</td>\n",
       "    </tr>\n",
       "    <tr>\n",
       "      <th>4</th>\n",
       "      <td>2014-06-27</td>\n",
       "      <td>131</td>\n",
       "      <td>18</td>\n",
       "      <td>149</td>\n",
       "      <td>NaN</td>\n",
       "      <td>397</td>\n",
       "      <td>173</td>\n",
       "      <td>570</td>\n",
       "      <td>NaN</td>\n",
       "      <td>NaN</td>\n",
       "    </tr>\n",
       "  </tbody>\n",
       "</table>\n",
       "</div>"
      ],
      "text/plain": [
       "         DIA  Usos bicis abono anual   Usos bicis abono ocasional   \\\n",
       "0 2014-06-23                       17                           79   \n",
       "1 2014-06-24                       24                           47   \n",
       "2 2014-06-25                      105                           14   \n",
       "3 2014-06-26                      120                           15   \n",
       "4 2014-06-27                      131                           18   \n",
       "\n",
       "   Usos bicis total  Unnamed: 4  Usos abono anual acumulado  \\\n",
       "0                96         NaN                          17   \n",
       "1                71         NaN                          41   \n",
       "2               119         NaN                         146   \n",
       "3               135         NaN                         266   \n",
       "4               149         NaN                         397   \n",
       "\n",
       "   Usos abono ocasional acumulado  Usos total acumulado desde inicio  \\\n",
       "0                              79                                 96   \n",
       "1                             126                                167   \n",
       "2                             140                                286   \n",
       "3                             155                                421   \n",
       "4                             173                                570   \n",
       "\n",
       "   Unnamed: 8  Acumulado mes total  \n",
       "0         NaN                  NaN  \n",
       "1         NaN                  NaN  \n",
       "2         NaN                  NaN  \n",
       "3         NaN                  NaN  \n",
       "4         NaN                  NaN  "
      ]
     },
     "execution_count": 15,
     "metadata": {},
     "output_type": "execute_result"
    }
   ],
   "source": [
    "# Creamos un dataframe que muestre el dataset de USOS\n",
    "dfUsos = pd.read_excel('bicis_usos_acumulado (2).xls')\n",
    "dfUsos.head()"
   ]
  },
  {
   "cell_type": "code",
   "execution_count": 16,
   "metadata": {},
   "outputs": [
    {
     "data": {
      "text/html": [
       "<div>\n",
       "<style scoped>\n",
       "    .dataframe tbody tr th:only-of-type {\n",
       "        vertical-align: middle;\n",
       "    }\n",
       "\n",
       "    .dataframe tbody tr th {\n",
       "        vertical-align: top;\n",
       "    }\n",
       "\n",
       "    .dataframe thead th {\n",
       "        text-align: right;\n",
       "    }\n",
       "</style>\n",
       "<table border=\"1\" class=\"dataframe\">\n",
       "  <thead>\n",
       "    <tr style=\"text-align: right;\">\n",
       "      <th></th>\n",
       "      <th>DIA</th>\n",
       "      <th>Usos bicis abono anual</th>\n",
       "      <th>Usos bicis abono ocasional</th>\n",
       "      <th>Usos bicis total</th>\n",
       "      <th>Usos abono anual acumulado</th>\n",
       "      <th>Usos abono ocasional acumulado</th>\n",
       "      <th>Usos total acumulado desde inicio</th>\n",
       "      <th>Acumulado mes total</th>\n",
       "    </tr>\n",
       "  </thead>\n",
       "  <tbody>\n",
       "    <tr>\n",
       "      <th>0</th>\n",
       "      <td>2014-06-23</td>\n",
       "      <td>17</td>\n",
       "      <td>79</td>\n",
       "      <td>96</td>\n",
       "      <td>17</td>\n",
       "      <td>79</td>\n",
       "      <td>96</td>\n",
       "      <td>NaN</td>\n",
       "    </tr>\n",
       "    <tr>\n",
       "      <th>1</th>\n",
       "      <td>2014-06-24</td>\n",
       "      <td>24</td>\n",
       "      <td>47</td>\n",
       "      <td>71</td>\n",
       "      <td>41</td>\n",
       "      <td>126</td>\n",
       "      <td>167</td>\n",
       "      <td>NaN</td>\n",
       "    </tr>\n",
       "    <tr>\n",
       "      <th>2</th>\n",
       "      <td>2014-06-25</td>\n",
       "      <td>105</td>\n",
       "      <td>14</td>\n",
       "      <td>119</td>\n",
       "      <td>146</td>\n",
       "      <td>140</td>\n",
       "      <td>286</td>\n",
       "      <td>NaN</td>\n",
       "    </tr>\n",
       "    <tr>\n",
       "      <th>3</th>\n",
       "      <td>2014-06-26</td>\n",
       "      <td>120</td>\n",
       "      <td>15</td>\n",
       "      <td>135</td>\n",
       "      <td>266</td>\n",
       "      <td>155</td>\n",
       "      <td>421</td>\n",
       "      <td>NaN</td>\n",
       "    </tr>\n",
       "    <tr>\n",
       "      <th>4</th>\n",
       "      <td>2014-06-27</td>\n",
       "      <td>131</td>\n",
       "      <td>18</td>\n",
       "      <td>149</td>\n",
       "      <td>397</td>\n",
       "      <td>173</td>\n",
       "      <td>570</td>\n",
       "      <td>NaN</td>\n",
       "    </tr>\n",
       "  </tbody>\n",
       "</table>\n",
       "</div>"
      ],
      "text/plain": [
       "         DIA  Usos bicis abono anual   Usos bicis abono ocasional   \\\n",
       "0 2014-06-23                       17                           79   \n",
       "1 2014-06-24                       24                           47   \n",
       "2 2014-06-25                      105                           14   \n",
       "3 2014-06-26                      120                           15   \n",
       "4 2014-06-27                      131                           18   \n",
       "\n",
       "   Usos bicis total  Usos abono anual acumulado  \\\n",
       "0                96                          17   \n",
       "1                71                          41   \n",
       "2               119                         146   \n",
       "3               135                         266   \n",
       "4               149                         397   \n",
       "\n",
       "   Usos abono ocasional acumulado  Usos total acumulado desde inicio  \\\n",
       "0                              79                                 96   \n",
       "1                             126                                167   \n",
       "2                             140                                286   \n",
       "3                             155                                421   \n",
       "4                             173                                570   \n",
       "\n",
       "   Acumulado mes total  \n",
       "0                  NaN  \n",
       "1                  NaN  \n",
       "2                  NaN  \n",
       "3                  NaN  \n",
       "4                  NaN  "
      ]
     },
     "execution_count": 16,
     "metadata": {},
     "output_type": "execute_result"
    }
   ],
   "source": [
    "# Eliminamos los datos nulos (tenemos dos columnas a eliminar en este dataframe)\n",
    "del dfUsos['Unnamed: 4']\n",
    "del dfUsos['Unnamed: 8']\n",
    "dfUsos.head()"
   ]
  },
  {
   "cell_type": "code",
   "execution_count": 17,
   "metadata": {},
   "outputs": [],
   "source": [
    "spDF = sqlContext.createDataFrame(dfUsos)"
   ]
  },
  {
   "cell_type": "code",
   "execution_count": 18,
   "metadata": {},
   "outputs": [],
   "source": [
    "rdd1=spDF.rdd.repartition(1)"
   ]
  },
  {
   "cell_type": "code",
   "execution_count": 20,
   "metadata": {},
   "outputs": [],
   "source": [
    "rdd1.saveAsTextFile('/Users/patrimballesteros/Desktop/rddUsos.txt') "
   ]
  },
  {
   "cell_type": "markdown",
   "metadata": {},
   "source": [
    "En la última columna aparecen varios valores NaN pero esto se debe a que trata del acumulado el mes, por lo tanto solo aparecen valores en el último dia de cada mes. Por eso la hemos dejado tal y como está."
   ]
  },
  {
   "cell_type": "markdown",
   "metadata": {},
   "source": [
    "* **dfBases**: Por último para el conjunto de datos de las bases de las bicicletas elaboramos un dataframe denominado dfBases."
   ]
  },
  {
   "cell_type": "code",
   "execution_count": 9,
   "metadata": {},
   "outputs": [
    {
     "data": {
      "text/html": [
       "<div>\n",
       "<style scoped>\n",
       "    .dataframe tbody tr th:only-of-type {\n",
       "        vertical-align: middle;\n",
       "    }\n",
       "\n",
       "    .dataframe tbody tr th {\n",
       "        vertical-align: top;\n",
       "    }\n",
       "\n",
       "    .dataframe thead th {\n",
       "        text-align: right;\n",
       "    }\n",
       "</style>\n",
       "<table border=\"1\" class=\"dataframe\">\n",
       "  <thead>\n",
       "    <tr style=\"text-align: right;\">\n",
       "      <th></th>\n",
       "      <th>Número</th>\n",
       "      <th>Gis_X</th>\n",
       "      <th>Gis_Y</th>\n",
       "      <th>Fecha de Alta</th>\n",
       "      <th>Distrito</th>\n",
       "      <th>Barrio</th>\n",
       "      <th>Calle</th>\n",
       "      <th>Nº Finca</th>\n",
       "      <th>Tipo de Reserva</th>\n",
       "      <th>Número de Plazas</th>\n",
       "      <th>LONGITUD</th>\n",
       "      <th>LATITUD</th>\n",
       "      <th>DIRECCION</th>\n",
       "    </tr>\n",
       "  </thead>\n",
       "  <tbody>\n",
       "    <tr>\n",
       "      <th>0</th>\n",
       "      <td>001a</td>\n",
       "      <td>440394.55</td>\n",
       "      <td>4474280.53</td>\n",
       "      <td>41813</td>\n",
       "      <td>01  CENTRO</td>\n",
       "      <td>01-06 SOL</td>\n",
       "      <td>PUERTA DEL SOL, PLAZA, DE LA</td>\n",
       "      <td>1 B</td>\n",
       "      <td>BiciMAD</td>\n",
       "      <td>24</td>\n",
       "      <td>-3.702575</td>\n",
       "      <td>40.417016</td>\n",
       "      <td>PUERTA DEL SOL, PLAZA, DE LA,1 B</td>\n",
       "    </tr>\n",
       "    <tr>\n",
       "      <th>1</th>\n",
       "      <td>001b</td>\n",
       "      <td>440404.21</td>\n",
       "      <td>4474287.39</td>\n",
       "      <td>41813</td>\n",
       "      <td>01  CENTRO</td>\n",
       "      <td>01-06 SOL</td>\n",
       "      <td>ALCALA, CALLE, DE</td>\n",
       "      <td>1</td>\n",
       "      <td>BiciMAD</td>\n",
       "      <td>24</td>\n",
       "      <td>-3.702462</td>\n",
       "      <td>40.417078</td>\n",
       "      <td>ALCALA, CALLE, DE,1</td>\n",
       "    </tr>\n",
       "    <tr>\n",
       "      <th>2</th>\n",
       "      <td>2</td>\n",
       "      <td>440134.83</td>\n",
       "      <td>4474678.23</td>\n",
       "      <td>41813</td>\n",
       "      <td>01  CENTRO</td>\n",
       "      <td>01-05 UNIVERSIDAD</td>\n",
       "      <td>MIGUEL MOYA, CALLE, DE</td>\n",
       "      <td>1</td>\n",
       "      <td>BiciMAD</td>\n",
       "      <td>27</td>\n",
       "      <td>-3.705674</td>\n",
       "      <td>40.420580</td>\n",
       "      <td>MIGUEL MOYA, CALLE, DE,1</td>\n",
       "    </tr>\n",
       "    <tr>\n",
       "      <th>3</th>\n",
       "      <td>3</td>\n",
       "      <td>440012.98</td>\n",
       "      <td>4475760.68</td>\n",
       "      <td>41813</td>\n",
       "      <td>07  CHAMBERÍ</td>\n",
       "      <td>07-02 ARAPILES</td>\n",
       "      <td>CONDE DEL VALLE DE SUCHIL, PLAZA, DEL</td>\n",
       "      <td>2</td>\n",
       "      <td>BiciMAD</td>\n",
       "      <td>18</td>\n",
       "      <td>-3.707212</td>\n",
       "      <td>40.430322</td>\n",
       "      <td>CONDE DEL VALLE DE SUCHIL, PLAZA, DEL,2</td>\n",
       "    </tr>\n",
       "    <tr>\n",
       "      <th>4</th>\n",
       "      <td>4</td>\n",
       "      <td>440396.40</td>\n",
       "      <td>4475565.36</td>\n",
       "      <td>41813</td>\n",
       "      <td>01  CENTRO</td>\n",
       "      <td>01-05 UNIVERSIDAD</td>\n",
       "      <td>MANUELA MALASAÑA, CALLE, DE</td>\n",
       "      <td>3</td>\n",
       "      <td>BiciMAD</td>\n",
       "      <td>27</td>\n",
       "      <td>-3.702674</td>\n",
       "      <td>40.428591</td>\n",
       "      <td>MANUELA MALASAÑA, CALLE, DE,3</td>\n",
       "    </tr>\n",
       "  </tbody>\n",
       "</table>\n",
       "</div>"
      ],
      "text/plain": [
       "  Número      Gis_X       Gis_Y  Fecha de Alta      Distrito  \\\n",
       "0   001a  440394.55  4474280.53          41813    01  CENTRO   \n",
       "1   001b  440404.21  4474287.39          41813    01  CENTRO   \n",
       "2      2  440134.83  4474678.23          41813    01  CENTRO   \n",
       "3      3  440012.98  4475760.68          41813  07  CHAMBERÍ   \n",
       "4      4  440396.40  4475565.36          41813    01  CENTRO   \n",
       "\n",
       "              Barrio                                  Calle Nº Finca  \\\n",
       "0          01-06 SOL           PUERTA DEL SOL, PLAZA, DE LA      1 B   \n",
       "1          01-06 SOL                      ALCALA, CALLE, DE        1   \n",
       "2  01-05 UNIVERSIDAD                 MIGUEL MOYA, CALLE, DE        1   \n",
       "3     07-02 ARAPILES  CONDE DEL VALLE DE SUCHIL, PLAZA, DEL        2   \n",
       "4  01-05 UNIVERSIDAD            MANUELA MALASAÑA, CALLE, DE        3   \n",
       "\n",
       "  Tipo de Reserva  Número de Plazas  LONGITUD    LATITUD  \\\n",
       "0         BiciMAD                24 -3.702575  40.417016   \n",
       "1         BiciMAD                24 -3.702462  40.417078   \n",
       "2         BiciMAD                27 -3.705674  40.420580   \n",
       "3         BiciMAD                18 -3.707212  40.430322   \n",
       "4         BiciMAD                27 -3.702674  40.428591   \n",
       "\n",
       "                                 DIRECCION  \n",
       "0         PUERTA DEL SOL, PLAZA, DE LA,1 B  \n",
       "1                      ALCALA, CALLE, DE,1  \n",
       "2                 MIGUEL MOYA, CALLE, DE,1  \n",
       "3  CONDE DEL VALLE DE SUCHIL, PLAZA, DEL,2  \n",
       "4            MANUELA MALASAÑA, CALLE, DE,3  "
      ]
     },
     "execution_count": 9,
     "metadata": {},
     "output_type": "execute_result"
    }
   ],
   "source": [
    "# Creamos un dataframe que muestre el dataset de BASES\n",
    "dfBases = pd.read_excel('bases_bicimad.xls')\n",
    "dfBases.head()"
   ]
  },
  {
   "cell_type": "markdown",
   "metadata": {},
   "source": [
    "No hemos necesitado emplear la limpieza de datos en este dataset ya que no consta la presencia de valores nulos, y opinamos que el conjunto de datos al completo puede ser de utilidad."
   ]
  },
  {
   "cell_type": "markdown",
   "metadata": {},
   "source": [
    "#### Análisis de Datos Unilateral"
   ]
  },
  {
   "cell_type": "markdown",
   "metadata": {},
   "source": [
    "En el siguiente apartado ofrece un análisis de los datos que hemos considerado de mayor interés de BiciMad."
   ]
  },
  {
   "cell_type": "markdown",
   "metadata": {},
   "source": [
    "**1. ‘Altas nuevos usuarios activos abono anual sin ttp día’ y ‘Altas nuevos usuarios activos abono anual con ttp día’**\n",
    "\n",
    "(ttp = tarjeta transporte publico)"
   ]
  },
  {
   "cell_type": "code",
   "execution_count": 10,
   "metadata": {},
   "outputs": [],
   "source": [
    "# Antes de nada, para poder proceder a la visualización de los datos obtenidos, debemos importar varias librerias\n",
    "import numpy as np \n",
    "import matplotlib.pyplot as plt\n",
    "import seaborn as sns\n",
    "\n",
    "%matplotlib inline"
   ]
  },
  {
   "cell_type": "markdown",
   "metadata": {},
   "source": [
    "Para el primer gráfico hemos escogido el formato de diagrama de dispersión. Esto se debe a que nuestro propósito era ver el vínculo, si existente, entre el uso del abono anual sin ttp y el abono anual con ttp."
   ]
  },
  {
   "cell_type": "code",
   "execution_count": 11,
   "metadata": {},
   "outputs": [
    {
     "data": {
      "image/png": "[encoded data removed]",
      "text/plain": [
       "<Figure size 1440x1440 with 1 Axes>"
      ]
     },
     "metadata": {},
     "output_type": "display_data"
    }
   ],
   "source": [
    "sns.set()\n",
    "f= plt.subplots(figsize =(20,20))\n",
    "cmap = sns.cubehelix_palette(rot=-.2, as_cmap=True)\n",
    "ax = sns.scatterplot(x=\"Altas nuevos usuarios activos ab. anual sin ttp día\", y=\"Altas nuevos usuarios activos ab. anual con ttp día\",\n",
    "                     palette=cmap, sizes=(10, 200),\n",
    "                     data=dfUsuarios)"
   ]
  },
  {
   "cell_type": "markdown",
   "metadata": {},
   "source": [
    "La conclusión principal que sacamos de este gráfico es que es independiente el hecho de que los usuarios tengan o no ttp (tarjeta de transporte público). Nos apoyamos en el hecho de que la mayoría de los datos están concentrados entre -200 y 200 en ambos el eje x como el y. Esto quiere decir que no se manifiesta gran variación entre ambos grupos, a excepción de algunos outliers; sin embargo estos últimos los consideramos muy pocos para ser significativos.\n",
    "\n",
    "Sin duda nos ha resultado curioso que ambos se comporten de manera casi idéntica."
   ]
  },
  {
   "cell_type": "markdown",
   "metadata": {},
   "source": [
    "**2. 'DIA' y 'Usos bicis total'**\n",
    "\n",
    "Los siguientes gráficos representan la evolución del uso de la bici cada mes del año. Hemos tomado 2017 como ejemplo ya que las bicis ya se encuentran más asentadas que los primeros años. Los tres graficos nos guían hacia la misma conclusión solo que hemos decidido explorar visualizaciones variadas."
   ]
  },
  {
   "cell_type": "code",
   "execution_count": 12,
   "metadata": {
    "scrolled": true
   },
   "outputs": [
    {
     "data": {
      "text/html": [
       "<div>\n",
       "<style scoped>\n",
       "    .dataframe tbody tr th:only-of-type {\n",
       "        vertical-align: middle;\n",
       "    }\n",
       "\n",
       "    .dataframe tbody tr th {\n",
       "        vertical-align: top;\n",
       "    }\n",
       "\n",
       "    .dataframe thead th {\n",
       "        text-align: right;\n",
       "    }\n",
       "</style>\n",
       "<table border=\"1\" class=\"dataframe\">\n",
       "  <thead>\n",
       "    <tr style=\"text-align: right;\">\n",
       "      <th></th>\n",
       "      <th>DIA</th>\n",
       "      <th>Usos bicis abono anual</th>\n",
       "      <th>Usos bicis abono ocasional</th>\n",
       "      <th>Usos bicis total</th>\n",
       "      <th>Usos abono anual acumulado</th>\n",
       "      <th>Usos abono ocasional acumulado</th>\n",
       "      <th>Usos total acumulado desde inicio</th>\n",
       "      <th>Acumulado mes total</th>\n",
       "    </tr>\n",
       "  </thead>\n",
       "  <tbody>\n",
       "    <tr>\n",
       "      <th>952</th>\n",
       "      <td>2017-01-30</td>\n",
       "      <td>5438</td>\n",
       "      <td>67</td>\n",
       "      <td>5505</td>\n",
       "      <td>6638099</td>\n",
       "      <td>142305</td>\n",
       "      <td>6780404</td>\n",
       "      <td>NaN</td>\n",
       "    </tr>\n",
       "    <tr>\n",
       "      <th>981</th>\n",
       "      <td>2017-02-28</td>\n",
       "      <td>7552</td>\n",
       "      <td>100</td>\n",
       "      <td>7652</td>\n",
       "      <td>6815604</td>\n",
       "      <td>145417</td>\n",
       "      <td>6961021</td>\n",
       "      <td>173816.0</td>\n",
       "    </tr>\n",
       "    <tr>\n",
       "      <th>1011</th>\n",
       "      <td>2017-03-30</td>\n",
       "      <td>9459</td>\n",
       "      <td>136</td>\n",
       "      <td>9595</td>\n",
       "      <td>7035261</td>\n",
       "      <td>150253</td>\n",
       "      <td>7185514</td>\n",
       "      <td>NaN</td>\n",
       "    </tr>\n",
       "    <tr>\n",
       "      <th>1042</th>\n",
       "      <td>2017-04-30</td>\n",
       "      <td>3278</td>\n",
       "      <td>144</td>\n",
       "      <td>3422</td>\n",
       "      <td>7270439</td>\n",
       "      <td>158449</td>\n",
       "      <td>7428888</td>\n",
       "      <td>233851.0</td>\n",
       "    </tr>\n",
       "    <tr>\n",
       "      <th>1072</th>\n",
       "      <td>2017-05-30</td>\n",
       "      <td>12445</td>\n",
       "      <td>177</td>\n",
       "      <td>12622</td>\n",
       "      <td>7558666</td>\n",
       "      <td>166600</td>\n",
       "      <td>7725266</td>\n",
       "      <td>NaN</td>\n",
       "    </tr>\n",
       "    <tr>\n",
       "      <th>1103</th>\n",
       "      <td>2017-06-30</td>\n",
       "      <td>11515</td>\n",
       "      <td>185</td>\n",
       "      <td>11700</td>\n",
       "      <td>7918023</td>\n",
       "      <td>173177</td>\n",
       "      <td>8091200</td>\n",
       "      <td>352955.0</td>\n",
       "    </tr>\n",
       "    <tr>\n",
       "      <th>1133</th>\n",
       "      <td>2017-07-30</td>\n",
       "      <td>6490</td>\n",
       "      <td>292</td>\n",
       "      <td>6782</td>\n",
       "      <td>8220902</td>\n",
       "      <td>179998</td>\n",
       "      <td>8400900</td>\n",
       "      <td>NaN</td>\n",
       "    </tr>\n",
       "    <tr>\n",
       "      <th>1164</th>\n",
       "      <td>2017-08-30</td>\n",
       "      <td>11224</td>\n",
       "      <td>161</td>\n",
       "      <td>11385</td>\n",
       "      <td>8469338</td>\n",
       "      <td>187867</td>\n",
       "      <td>8657205</td>\n",
       "      <td>NaN</td>\n",
       "    </tr>\n",
       "    <tr>\n",
       "      <th>1195</th>\n",
       "      <td>2017-09-30</td>\n",
       "      <td>11151</td>\n",
       "      <td>474</td>\n",
       "      <td>11625</td>\n",
       "      <td>8851341</td>\n",
       "      <td>196434</td>\n",
       "      <td>9047775</td>\n",
       "      <td>378352.0</td>\n",
       "    </tr>\n",
       "    <tr>\n",
       "      <th>1225</th>\n",
       "      <td>2017-10-30</td>\n",
       "      <td>12391</td>\n",
       "      <td>269</td>\n",
       "      <td>12660</td>\n",
       "      <td>9212965</td>\n",
       "      <td>205211</td>\n",
       "      <td>9418176</td>\n",
       "      <td>NaN</td>\n",
       "    </tr>\n",
       "    <tr>\n",
       "      <th>1256</th>\n",
       "      <td>2017-11-30</td>\n",
       "      <td>10236</td>\n",
       "      <td>77</td>\n",
       "      <td>10313</td>\n",
       "      <td>9533952</td>\n",
       "      <td>210902</td>\n",
       "      <td>9744854</td>\n",
       "      <td>313022.0</td>\n",
       "    </tr>\n",
       "    <tr>\n",
       "      <th>1286</th>\n",
       "      <td>2017-12-30</td>\n",
       "      <td>5891</td>\n",
       "      <td>323</td>\n",
       "      <td>6214</td>\n",
       "      <td>9758893</td>\n",
       "      <td>214677</td>\n",
       "      <td>9973570</td>\n",
       "      <td>NaN</td>\n",
       "    </tr>\n",
       "  </tbody>\n",
       "</table>\n",
       "</div>"
      ],
      "text/plain": [
       "            DIA  Usos bicis abono anual   Usos bicis abono ocasional   \\\n",
       "952  2017-01-30                     5438                           67   \n",
       "981  2017-02-28                     7552                          100   \n",
       "1011 2017-03-30                     9459                          136   \n",
       "1042 2017-04-30                     3278                          144   \n",
       "1072 2017-05-30                    12445                          177   \n",
       "1103 2017-06-30                    11515                          185   \n",
       "1133 2017-07-30                     6490                          292   \n",
       "1164 2017-08-30                    11224                          161   \n",
       "1195 2017-09-30                    11151                          474   \n",
       "1225 2017-10-30                    12391                          269   \n",
       "1256 2017-11-30                    10236                           77   \n",
       "1286 2017-12-30                     5891                          323   \n",
       "\n",
       "      Usos bicis total  Usos abono anual acumulado  \\\n",
       "952               5505                     6638099   \n",
       "981               7652                     6815604   \n",
       "1011              9595                     7035261   \n",
       "1042              3422                     7270439   \n",
       "1072             12622                     7558666   \n",
       "1103             11700                     7918023   \n",
       "1133              6782                     8220902   \n",
       "1164             11385                     8469338   \n",
       "1195             11625                     8851341   \n",
       "1225             12660                     9212965   \n",
       "1256             10313                     9533952   \n",
       "1286              6214                     9758893   \n",
       "\n",
       "      Usos abono ocasional acumulado  Usos total acumulado desde inicio  \\\n",
       "952                           142305                            6780404   \n",
       "981                           145417                            6961021   \n",
       "1011                          150253                            7185514   \n",
       "1042                          158449                            7428888   \n",
       "1072                          166600                            7725266   \n",
       "1103                          173177                            8091200   \n",
       "1133                          179998                            8400900   \n",
       "1164                          187867                            8657205   \n",
       "1195                          196434                            9047775   \n",
       "1225                          205211                            9418176   \n",
       "1256                          210902                            9744854   \n",
       "1286                          214677                            9973570   \n",
       "\n",
       "      Acumulado mes total  \n",
       "952                   NaN  \n",
       "981              173816.0  \n",
       "1011                  NaN  \n",
       "1042             233851.0  \n",
       "1072                  NaN  \n",
       "1103             352955.0  \n",
       "1133                  NaN  \n",
       "1164                  NaN  \n",
       "1195             378352.0  \n",
       "1225                  NaN  \n",
       "1256             313022.0  \n",
       "1286                  NaN  "
      ]
     },
     "execution_count": 12,
     "metadata": {},
     "output_type": "execute_result"
    }
   ],
   "source": [
    "# Comenzamos creando un dataframe que contenga los datos del día 30 de cada mes del año 2017 (Excepcionando febrero del que se muestran los datos del día 28)\n",
    "\n",
    "Usos2017 = dfUsos.iloc[[952,981,1011, 1042, 1072, 1103, 1133,1164, 1195, 1225, 1256, 1286],:]\n",
    "Usos2017"
   ]
  },
  {
   "cell_type": "markdown",
   "metadata": {},
   "source": [
    "A continuación, ya que vamos a trabajar con la columna 'DIA' en la realización de los gráficos, comprobamos los tipos de las variables en el dataframe dfUsos."
   ]
  },
  {
   "cell_type": "code",
   "execution_count": 13,
   "metadata": {},
   "outputs": [
    {
     "data": {
      "text/plain": [
       "DIA                                  datetime64[ns]\n",
       "Usos bicis abono anual                        int64\n",
       "Usos bicis abono ocasional                    int64\n",
       "Usos bicis total                              int64\n",
       "Usos abono anual acumulado                    int64\n",
       "Usos abono ocasional acumulado                int64\n",
       "Usos total acumulado desde inicio             int64\n",
       "Acumulado mes total                         float64\n",
       "dtype: object"
      ]
     },
     "execution_count": 13,
     "metadata": {},
     "output_type": "execute_result"
    }
   ],
   "source": [
    "dfUsos.dtypes"
   ]
  },
  {
   "cell_type": "code",
   "execution_count": 14,
   "metadata": {
    "scrolled": true
   },
   "outputs": [],
   "source": [
    "# Cambiamos el tipo de 'DIA' para poder trabajar con ella\n",
    "from datetime import datetime, date\n",
    "Usos2017['DIA'] = Usos2017['DIA'].apply(lambda x: x.strftime('%Y-%m-%d'))"
   ]
  },
  {
   "cell_type": "markdown",
   "metadata": {},
   "source": [
    "* **Gráfico 2.1**\n",
    "\n",
    "El gráfico a continuación consiste en una representación de la relación entre el mes del año y el uso de bicis total de cada respectivo mes. Hemos escogido un gráfico lineal ya que mediante este formato se puede visualizar rapidamente el cambio de tendencia de los datos."
   ]
  },
  {
   "cell_type": "code",
   "execution_count": 15,
   "metadata": {},
   "outputs": [
    {
     "data": {
      "text/plain": [
       "<seaborn.axisgrid.FacetGrid at 0x29a8834e780>"
      ]
     },
     "execution_count": 15,
     "metadata": {},
     "output_type": "execute_result"
    },
    {
     "data": {
      "image/png": "[encoded data removed]",
      "text/plain": [
       "<Figure size 1080x360 with 1 Axes>"
      ]
     },
     "metadata": {},
     "output_type": "display_data"
    }
   ],
   "source": [
    "sns.catplot(x = \"DIA\", y = \"Usos bicis total\", data = Usos2017,  height=5, aspect=3, linestyles=[\"-\"], kind=\"point\")"
   ]
  },
  {
   "cell_type": "markdown",
   "metadata": {},
   "source": [
    "Efectivamente este muestra el cambio brusco de los usos de bicis total cada mes del año.\n",
    "\n",
    "Observamos que hay una subida constante y casi exponencial los tres primeros meses del año, pero después en abril experimenta una caida brusca, de la cual se recupera y alcanza el máximo del año el mes subsecuente. El resto del año se puede observar un comportamiento muy parecido; se realza la inestable trayectoria de los datos durante el año."
   ]
  },
  {
   "cell_type": "markdown",
   "metadata": {},
   "source": [
    "* **Gráfico 2.2**\n",
    "\n",
    "El próximo gráfico toma la forma de un diagrama de barras. Este tipo de represetación se utiliza para comparar dos o más valores, por eso lo hemos escogido para comparar el comportamiento de los dos tipos de abonos, permitiéndonos profundizar en el análisis. Los dos tipos de abono disponible son el abono anual y el abono ocasional. "
   ]
  },
  {
   "cell_type": "code",
   "execution_count": 16,
   "metadata": {},
   "outputs": [
    {
     "data": {
      "image/png": "[encoded data removed]",
      "text/plain": [
       "<Figure size 432x1080 with 1 Axes>"
      ]
     },
     "metadata": {},
     "output_type": "display_data"
    }
   ],
   "source": [
    "sns.set(style=\"whitegrid\")\n",
    "\n",
    "# Inicializamos gafico matplotlib\n",
    "f, ax = plt.subplots(figsize=(6, 15))\n",
    "\n",
    "# Graficar Usos bicis abono anual\n",
    "sns.set_color_codes(\"pastel\")\n",
    "sns.barplot(x=\"Usos bicis abono anual \", y=\"DIA\", data=Usos2017,\n",
    "            label=\"Usos bicis abono anual \", color=\"c\")\n",
    "\n",
    "# Graficar Usos bicis abono anual\n",
    "sns.set_color_codes(\"muted\")\n",
    "sns.barplot(x=\"Usos bicis abono ocasional \", y=\"DIA\", data=Usos2017,\n",
    "            label=\"Usos bicis abono ocasional \", color=\"b\")\n",
    "\n",
    "# Leyenda\n",
    "ax.legend(ncol=2, loc=\"lower right\", frameon=True)\n",
    "ax.set(xlim=(0, 12000), ylabel=\"\",\n",
    "       xlabel=\"Usos bicis\")\n",
    "sns.despine(left=True, bottom=True)"
   ]
  },
  {
   "cell_type": "markdown",
   "metadata": {},
   "source": [
    "A través de este gráfico podemos comprobar que el abono mas utilizado es el abono anual, con una diferencia muy elevada. El abono anual nos confirma lo deducido anteriormente, mostrando un patron muy similar al del gráfico anterior. A su vez, este gráfico revela que no parece haber ninguna relación entre ambos abonos, ya que se comportan de manera diferente cada uno a lo largo de los meses. El mes en el que más se emplea el abono ocasional no es el que mas incidencia tiene de abonos anuales, y viceversa. El mes que más frecuenta el abono ocasional es septiembre. Una posible explicación para esto se basa en el turismo. Este es un fenómeno en el que también hacemos énfasis ya que Madrid es una ciudad con un alto nivel turístico, y bien conocida por su prominencia en este sector. Nos apoyamos en estadísticas externas, ya que según fuentes de datos de la Comunidad de Madrid septiembre es uno de los meses mas frecuentados incluso por encima de lo meses de verano.\n",
    "\n",
    "Este gráfico lo hemos escogido debido a su alto nivel de poder visual, pudiendo comprobar rápidmente la conclusion anterior. A su vez nos ayuda a reforzar las conclusiones ya alcanzadas anteriormente sobre la conducta del uso de las bicis dependiendo del mes del año en el que nos encontremos."
   ]
  },
  {
   "cell_type": "markdown",
   "metadata": {},
   "source": [
    "* **Gráfico 2.3**\n",
    "\n",
    "A continuación se muestra un heatmap (mapa de calor), estos son aquellos que utilizan como forma de representación una termografía, adjudicando tonos distintos de una jerarquía de polos. Este último gráfico es más específico, con el fin de presentar la información de la manera más gráfica y útil posible. Asi pues resultando en una experiencia mucho más visual que promueve la toma de conclusiones."
   ]
  },
  {
   "cell_type": "code",
   "execution_count": 17,
   "metadata": {},
   "outputs": [
    {
     "data": {
      "text/plain": [
       "<matplotlib.axes._subplots.AxesSubplot at 0x29a869ef240>"
      ]
     },
     "execution_count": 17,
     "metadata": {},
     "output_type": "execute_result"
    },
    {
     "data": {
      "image/png": "[encoded data removed]",
      "text/plain": [
       "<Figure size 2160x1440 with 2 Axes>"
      ]
     },
     "metadata": {},
     "output_type": "display_data"
    }
   ],
   "source": [
    "sns.set()\n",
    "\n",
    "# Mapa de calor del 30 de cada mes de 2017\n",
    "usos = Usos2017.pivot(\"Usos total acumulado desde inicio\", \"DIA\", \"Usos bicis total\")\n",
    "\n",
    "# Dibuja el mapa de calor con sus respectivos valores para cada mes (con un color diferete segun la intensidad de usos)\n",
    "f, ax = plt.subplots(figsize=(30, 20))\n",
    "sns.heatmap(usos, linewidths=.5, ax=ax)"
   ]
  },
  {
   "cell_type": "markdown",
   "metadata": {},
   "source": [
    "Aqui podemos volver a comprobar que el mes de menos uso es abril, que aparece en el color más oscuro de todos, y el mes en el que más uso se les da a las bicis es octubre, que se apropia del tono más claro. Podemos afirmar que efectivamente este es un método muy visual de llegar a estas conclusiones."
   ]
  },
  {
   "cell_type": "markdown",
   "metadata": {},
   "source": [
    "**Conclusiones finales**\n",
    "\n",
    "Después de haber analizado estas tres representaciones opinamos que es importante hacer énfasis en la influencia del tiempo en el uso de las bicicletas. Las condiciones meteorológicas podrían ser el elemento más importante a la hora de decidir si utilizar una bicicleta o no.\n",
    "Por ejemplo, los meses mas fríos (aproximadamente diciembre, enero, febrero y marzo) se ve que se utiliza menos, bien podria ser porque las temperaturas bajas se convierten en el elemento que desincentiva el uso de la bicicleta. Sin embargo, es abril el mes que se apropia la cifra más baja de uso de la bicicleta, esto nos lleva a apoyarnos en la certeza detrás del refrán 'abril aguasmil'.\n",
    "\n",
    "Nos sorprende que agosto tenga un numero tan elevado, ya que debido a las altas temperaturas montar en bici podría convertirse en una actividad tediosa. Puede deberse a que se desaloja Madrid al irse un elevado número de la población de vacaciones, por tanto es más seguro utilizar la bici. "
   ]
  },
  {
   "cell_type": "markdown",
   "metadata": {},
   "source": [
    "**3. Bases BiciMAD**"
   ]
  },
  {
   "cell_type": "markdown",
   "metadata": {},
   "source": [
    "El dataset de las bases de biciMAD nos interesaba ya que podiamos aplicar tecnicas de 'mapping'. Considerabamos esta última una forma muy eficaz de visualizar la densidad de bicicletas en las distintas zonas de Madrid."
   ]
  },
  {
   "cell_type": "code",
   "execution_count": 18,
   "metadata": {},
   "outputs": [
    {
     "data": {
      "image/png": "[encoded data removed]",
      "text/plain": [
       "<Figure size 1080x1080 with 3 Axes>"
      ]
     },
     "metadata": {},
     "output_type": "display_data"
    }
   ],
   "source": [
    "sns.set(style=\"white\")\n",
    "\n",
    "# A la hora de mappear insertamos las coordenadas que nos ofrece el dataset.\n",
    "g = sns.jointplot(x = \"Gis_X\", y = \"Gis_Y\", kind=\"kde\", data = dfBases, height=15, space=0)"
   ]
  },
  {
   "cell_type": "markdown",
   "metadata": {},
   "source": [
    "Efectivamente el mapa nos confirma lo que esperabamos: el foco de las bases reside en el centro de la ciudad y el número de bases va disminuyendo cuanto más te alejas de la zona centro. Este formato de mapeo nos ha gustado mucho porque de manera muy visual nos muestra la densidad de bases bicicletas, incluyendo un histograma en los laterales que refleja la distribución de las bases y que sirve como refuerzo a la hora de la toma de conclusiones. Con este histograma podemos apreciar las distribuciones de norte a sur y de este a oeste de las bases de bicicletas. Con esto podemos ver que en la zona sur de Madrid se utilza más la bicicleta que en el norte. Asumimos que donde más bases de bicicletas hay, más demanda hay de bicicletas y por consiguiente experimente mayor utilización."
   ]
  },
  {
   "cell_type": "markdown",
   "metadata": {},
   "source": [
    "#### Web Scrapping"
   ]
  },
  {
   "cell_type": "markdown",
   "metadata": {},
   "source": [
    "Nos atraia la idea de aplicar la tecnica de 'web scrapping' en nuestro proyecto, y decidimos que sería interesante emplearla para obtener los datos de aquellas estaciones de biciMad que se encontrasen fuera d servicio. En la página web oficial de este servicio encontramos una sección con las instancias sobre las estaciones que no se encontrasen en funcionamiento. \n",
    "\n",
    "En ellas se especifican las siguientes:\n",
    "* Nombre\n",
    "* Estado\n",
    "* Fecha Inicio\n",
    "* Fecha Finalización"
   ]
  },
  {
   "cell_type": "markdown",
   "metadata": {},
   "source": [
    "Para realizar el web scrapping debiamos importar la libreria pyspark desde la terminal de anaconda.\n",
    "Introducimos lo siguiente:\n",
    "pip install pyspark.\n",
    "\n",
    "Luego procedimos asi:"
   ]
  },
  {
   "cell_type": "code",
   "execution_count": 19,
   "metadata": {},
   "outputs": [],
   "source": [
    "# Importamos las librerias necesarias\n",
    "import sys, getopt, os, pyspark, datetime\n",
    "import pandas as pd\n",
    "\n",
    "import requests\n",
    "from bs4 import BeautifulSoup"
   ]
  },
  {
   "cell_type": "markdown",
   "metadata": {},
   "source": [
    "requests.get (se conecta a página web) y almacena su estado y todo el código HTML:"
   ]
  },
  {
   "cell_type": "code",
   "execution_count": 20,
   "metadata": {},
   "outputs": [],
   "source": [
    "r = requests.get(\"https://u.bicimad.com/estadoservicio\")"
   ]
  },
  {
   "cell_type": "markdown",
   "metadata": {},
   "source": [
    "Comprobamos que la página web existe y se puede acceder:"
   ]
  },
  {
   "cell_type": "code",
   "execution_count": 21,
   "metadata": {},
   "outputs": [
    {
     "data": {
      "text/plain": [
       "200"
      ]
     },
     "execution_count": 21,
     "metadata": {},
     "output_type": "execute_result"
    }
   ],
   "source": [
    "# Para ello comprobamos el código de estado\n",
    "r.status_code"
   ]
  },
  {
   "cell_type": "markdown",
   "metadata": {},
   "source": [
    "Para proceder con el web scrapping debemos sumergirnos en el código HTML e inspeccinarlo para buscar donde se encuentra aquello que queremos scrappear:"
   ]
  },
  {
   "cell_type": "code",
   "execution_count": 22,
   "metadata": {},
   "outputs": [
    {
     "data": {
      "text/plain": [
       "'\\n\\n<!DOCTYPE html PUBLIC \"-//W3C//DTD XHTML 1.0 Transitional//EN\" \"http://www.w3.org/TR/xhtml1/DTD/xhtml1-transitional.dtd\">\\n<html lang=\"es\">\\n<head>\\n<meta http-equiv=\"Content-Type\" content=\"text/html; charset=utf-8\">\\n<meta name=\"viewport\" content=\"width=device-width, initial-scale=1, maximum-scale=1\" />\\n<title>BiciMAD</title>\\n\\n<link media=\"all\" type=\"text/css\" rel=\"stylesheet\" href=\"https://u.bicimad.com/css/style.css\">\\n\\n<link media=\"all\" type=\"text/css\" rel=\"stylesheet\" href=\"https://u.bicimad.c'"
      ]
     },
     "execution_count": 22,
     "metadata": {},
     "output_type": "execute_result"
    }
   ],
   "source": [
    "# Mostramos solo 500 ya que el código HTML entero es muy grande\n",
    "r.text[:500]"
   ]
  },
  {
   "cell_type": "markdown",
   "metadata": {},
   "source": [
    "BeatifulSoup formatea el anterior código HTML en trozos para poder buscar:"
   ]
  },
  {
   "cell_type": "code",
   "execution_count": 23,
   "metadata": {},
   "outputs": [],
   "source": [
    "soup = BeautifulSoup(r.text, 'html.parser')"
   ]
  },
  {
   "cell_type": "markdown",
   "metadata": {},
   "source": [
    "Tras haber encontrado lo que buscabamos y nos interesaba mostrar empleamos BeautifulSoup para que nos enseñe el/los trozos del HTML donde se encuentra:"
   ]
  },
  {
   "cell_type": "code",
   "execution_count": 24,
   "metadata": {},
   "outputs": [
    {
     "data": {
      "text/plain": [
       "<tr id=\"fila1\">\n",
       "<th>Estación</th>\n",
       "<th>Estado</th>\n",
       "<th>Fecha inicio</th>\n",
       "<th>Fecha finalización</th>\n",
       "</tr>"
      ]
     },
     "execution_count": 24,
     "metadata": {},
     "output_type": "execute_result"
    }
   ],
   "source": [
    "# Vemos si hay titulos en la tabla.\n",
    "soup.findAll('tr')[0]"
   ]
  },
  {
   "cell_type": "code",
   "execution_count": 25,
   "metadata": {},
   "outputs": [
    {
     "data": {
      "text/plain": [
       "<tr class=\"seleccion_fila\">\n",
       "<td>54 - Barceló</td>\n",
       "<td>Estación no operativa por tareas de mantenimiento.</td>\n",
       "<td>22/01/2019</td>\n",
       "<td>Sin previsión</td>\n",
       "</tr>"
      ]
     },
     "execution_count": 25,
     "metadata": {},
     "output_type": "execute_result"
    }
   ],
   "source": [
    "# Probamos a mostrar una estación\n",
    "soup.find('tr', {'class': 'seleccion_fila'})"
   ]
  },
  {
   "cell_type": "code",
   "execution_count": 26,
   "metadata": {},
   "outputs": [
    {
     "data": {
      "text/plain": [
       "[<tr class=\"seleccion_fila\">\n",
       " <td>54 - Barceló</td>\n",
       " <td>Estación no operativa por tareas de mantenimiento.</td>\n",
       " <td>22/01/2019</td>\n",
       " <td>Sin previsión</td>\n",
       " </tr>, <tr class=\"seleccion_fila\">\n",
       " <td>33 - Carretas</td>\n",
       " <td>Estación no operativa debido a obras en la zona.</td>\n",
       " <td>13/07/2018</td>\n",
       " <td>Sin previsión</td>\n",
       " </tr>, <tr class=\"seleccion_fila\">\n",
       " <td>21b - Red de San Luis B</td>\n",
       " <td>Estación no operativa debido a obras en la zona.</td>\n",
       " <td>26/04/2018</td>\n",
       " <td>Sin previsión</td>\n",
       " </tr>, <tr class=\"seleccion_fila\">\n",
       " <td>21a - Red de San Luis A</td>\n",
       " <td>Estación no operativa debido a obras en la zona.</td>\n",
       " <td>26/04/2018</td>\n",
       " <td>Sin previsión</td>\n",
       " </tr>]"
      ]
     },
     "execution_count": 26,
     "metadata": {},
     "output_type": "execute_result"
    }
   ],
   "source": [
    "# Mostramos todas las estaciones inactivas & sus datos correspondientes.\n",
    "all = soup.find_all('tr', {'class': 'seleccion_fila'})\n",
    "all"
   ]
  },
  {
   "cell_type": "code",
   "execution_count": 27,
   "metadata": {},
   "outputs": [
    {
     "name": "stdout",
     "output_type": "stream",
     "text": [
      "1\n",
      "<tr class=\"seleccion_fila\">\n",
      "<td>54 - Barceló</td>\n",
      "<td>Estación no operativa por tareas de mantenimiento.</td>\n",
      "<td>22/01/2019</td>\n",
      "<td>Sin previsión</td>\n",
      "</tr>\n",
      "2\n",
      "<tr class=\"seleccion_fila\">\n",
      "<td>33 - Carretas</td>\n",
      "<td>Estación no operativa debido a obras en la zona.</td>\n",
      "<td>13/07/2018</td>\n",
      "<td>Sin previsión</td>\n",
      "</tr>\n",
      "3\n",
      "<tr class=\"seleccion_fila\">\n",
      "<td>21b - Red de San Luis B</td>\n",
      "<td>Estación no operativa debido a obras en la zona.</td>\n",
      "<td>26/04/2018</td>\n",
      "<td>Sin previsión</td>\n",
      "</tr>\n",
      "4\n",
      "<tr class=\"seleccion_fila\">\n",
      "<td>21a - Red de San Luis A</td>\n",
      "<td>Estación no operativa debido a obras en la zona.</td>\n",
      "<td>26/04/2018</td>\n",
      "<td>Sin previsión</td>\n",
      "</tr>\n"
     ]
    }
   ],
   "source": [
    "# Mostramos las estaciones en un formato listado\n",
    "for i in list(range(1, len(soup.findAll('tr')))):\n",
    "    print(i)\n",
    "    print(soup.findAll('tr')[i])"
   ]
  },
  {
   "cell_type": "markdown",
   "metadata": {},
   "source": [
    "Consideramos de enorme utilidad el web scrapping ya que nos permite obtener datos que no podemos alcanzar a través de otros medios convencionales como los portales de datos abiertos. Además la gran ventaja que le asociamos es que los datos se pueden actualizar en tiempo real; es decir, que poseemos una instancia actualizada del estado de las bases de BiciMad."
   ]
  },
  {
   "cell_type": "markdown",
   "metadata": {},
   "source": [
    "### Datos: Accidentes de tráfico con implicación de bicicletas"
   ]
  },
  {
   "cell_type": "markdown",
   "metadata": {},
   "source": [
    "A continuación se plasman los accidentes de tráfico en la Ciudad de Madrid registrados por la Policía Municipal, es importante destacar que solo aparecen en el dataset aquellos en los que está implicada al menos una bicicleta.\n",
    "\n",
    "**2010-2017:** incluye día, hora, nº de víctimas, distrito, nombre de la vía y tipo de accidente.\n",
    "\n",
    "**Desde 2018:** se indica  tipo de vehículo, lesividad, estado de la vía, factores atmosféricos, sexo, tramo de edad y categoría del implicado, está última descrita en el campo como “tipo persona”.  \n",
    "\n",
    "Si en un accidente hay más de un vehículo implicado, existe un registro por cada vehículo afectado o peaton. \n",
    "Esta relación de accidentes de tráfico de la ciudad de Madrid se refieren a accidentes de tráfico con víctimas y/o daños al patrimonio.\n",
    "\n",
    "**IMPORTANTE:** \n",
    "\n",
    "En el conjunto de datos nos encontramos un registro por cada persona relacionada a una bicicleta que ha estado implicada en un accidente (conductor o viajero de la bicicleta) \n",
    "El campo \"Número de víctimas\" nos muestra el total de víctimas del accidente  (heridos graves, heridos leves y muertos) de todas las personas involucradas en el accidente: conductores y viajeros de cualquier vehículo implicado (bicicleta, turismo,...), peatones, etc. \n",
    "\n",
    "La terminología empleada para los tipos de accidente:\n",
    "\n",
    "* **Colisión doble:** Accidente de tráfico ocurrido entre dos vehículos en movimiento.\n",
    "* **Colisión múltiple:** Accidente de tráfico ocurrido entre más de dos vehículos en movimiento.\n",
    "* **Choque con objeto fijo:** Accidente ocurrido entre un vehículo en movimiento con conductor y un objeto inmóvil que ocupa la vía o zona apartada de la misma, ya sea vehículo estacionado, árbol, farola, etc.\n",
    "* **Atropello:** Accidente ocurrido ente un vehículo y un peatón que ocupa la calzada o que transita por aceras, refugios, paseos o zonas de la vía pública no destinada a la circulación de vehículos.\n",
    "* **Vuelco:** Accidente sufrido por un vehículo con más de dos ruedas y que por alguna circunstancia sus neumáticos pierden el contacto con la calzada quedando apoyado sobre un costado o sobre el techo.\n",
    "* **Caída motocicleta:** Accidente sufrido por una motocicleta, que en determinado momento pierde el equilibrio, por causa del conductor o por las circunstancias de la vía.\n",
    "* **Caída ciclomotor:** Accidente sufrido por un ciclomotor, que en determinado momento pierde el equilibrio, por causa del conductor o por las circunstancias de la vía.\n",
    "* **Caída bicicleta:** Accidente sufrido por una bicicleta, que en determinado momento pierde el equilibrio, por causa del conductor o por las circunstancias de la vía."
   ]
  },
  {
   "cell_type": "markdown",
   "metadata": {},
   "source": [
    "#### Limpieza de Datos"
   ]
  },
  {
   "cell_type": "markdown",
   "metadata": {},
   "source": [
    "Estos datasets han requerido una limpieza muy ligera, ya que se ofrecian en un formato muy adecuado. No no hemos encontrado valores nulos ni ninguna columna o fila que debiamos eliminar. Solamente hemos tenido que emplear procedimientos para renombrar ciertas columnas.\n",
    "\n",
    "A continuación se muestran los dataframes con los que trabajamos:"
   ]
  },
  {
   "cell_type": "markdown",
   "metadata": {},
   "source": [
    "* **dfAccidentes17:** nos muestra los datos de los accidentes ocurridos en el año 2017."
   ]
  },
  {
   "cell_type": "code",
   "execution_count": 75,
   "metadata": {
    "scrolled": true
   },
   "outputs": [
    {
     "data": {
      "text/html": [
       "<div>\n",
       "<style scoped>\n",
       "    .dataframe tbody tr th:only-of-type {\n",
       "        vertical-align: middle;\n",
       "    }\n",
       "\n",
       "    .dataframe tbody tr th {\n",
       "        vertical-align: top;\n",
       "    }\n",
       "\n",
       "    .dataframe thead th {\n",
       "        text-align: right;\n",
       "    }\n",
       "</style>\n",
       "<table border=\"1\" class=\"dataframe\">\n",
       "  <thead>\n",
       "    <tr style=\"text-align: right;\">\n",
       "      <th></th>\n",
       "      <th>FECHA</th>\n",
       "      <th>RANGO HORARIO</th>\n",
       "      <th>DIA SEMANA</th>\n",
       "      <th>DISTRITO</th>\n",
       "      <th>LUGAR ACCIDENTE</th>\n",
       "      <th>Nº</th>\n",
       "      <th>Nº PARTE</th>\n",
       "      <th>CPFA Granizo</th>\n",
       "      <th>CPFA Hielo</th>\n",
       "      <th>CPFA Lluvia</th>\n",
       "      <th>...</th>\n",
       "      <th>CPSV Grava Suelta</th>\n",
       "      <th>CPSV Hielo</th>\n",
       "      <th>CPSV Seca Y Limpia</th>\n",
       "      <th>Nº VICTIMAS *</th>\n",
       "      <th>TIPO ACCIDENTE</th>\n",
       "      <th>Tipo Vehiculo</th>\n",
       "      <th>TIPO PERSONA</th>\n",
       "      <th>SEXO</th>\n",
       "      <th>LESIVIDAD</th>\n",
       "      <th>Tramo Edad</th>\n",
       "    </tr>\n",
       "  </thead>\n",
       "  <tbody>\n",
       "    <tr>\n",
       "      <th>0</th>\n",
       "      <td>2017-01-01</td>\n",
       "      <td>DE 6:00 A 6:59</td>\n",
       "      <td>DOMINGO</td>\n",
       "      <td>ARGANZUELA</td>\n",
       "      <td>CALLE DE TOLEDO NUM                           ...</td>\n",
       "      <td>120</td>\n",
       "      <td>2017/88</td>\n",
       "      <td>NO</td>\n",
       "      <td>NO</td>\n",
       "      <td>NO</td>\n",
       "      <td>...</td>\n",
       "      <td>NO</td>\n",
       "      <td>NO</td>\n",
       "      <td>SI</td>\n",
       "      <td>1</td>\n",
       "      <td>CHOQUE CON OBJETO FIJO</td>\n",
       "      <td>BICICLETA</td>\n",
       "      <td>CONDUCTOR</td>\n",
       "      <td>MUJER</td>\n",
       "      <td>HG</td>\n",
       "      <td>DE 21 A 24 AÑOS</td>\n",
       "    </tr>\n",
       "    <tr>\n",
       "      <th>1</th>\n",
       "      <td>2017-01-02</td>\n",
       "      <td>DE 21:00 A 21:59</td>\n",
       "      <td>LUNES</td>\n",
       "      <td>SAN BLAS</td>\n",
       "      <td>CALLE DE MEQUINENZA NUM                       ...</td>\n",
       "      <td>14</td>\n",
       "      <td>2017/70</td>\n",
       "      <td>NO</td>\n",
       "      <td>NO</td>\n",
       "      <td>NO</td>\n",
       "      <td>...</td>\n",
       "      <td>NO</td>\n",
       "      <td>NO</td>\n",
       "      <td>SI</td>\n",
       "      <td>1</td>\n",
       "      <td>CAÍDA BICICLETA</td>\n",
       "      <td>BICICLETA</td>\n",
       "      <td>CONDUCTOR</td>\n",
       "      <td>HOMBRE</td>\n",
       "      <td>HL</td>\n",
       "      <td>DE 25 A 29 AÑOS</td>\n",
       "    </tr>\n",
       "    <tr>\n",
       "      <th>2</th>\n",
       "      <td>2017-01-03</td>\n",
       "      <td>DE 19:00 A 19:59</td>\n",
       "      <td>MARTES</td>\n",
       "      <td>CENTRO</td>\n",
       "      <td>CALLE DE LA ESCALINATA NUM                    ...</td>\n",
       "      <td>8</td>\n",
       "      <td>2017/307</td>\n",
       "      <td>NO</td>\n",
       "      <td>NO</td>\n",
       "      <td>NO</td>\n",
       "      <td>...</td>\n",
       "      <td>NO</td>\n",
       "      <td>NO</td>\n",
       "      <td>SI</td>\n",
       "      <td>1</td>\n",
       "      <td>CAÍDA BICICLETA</td>\n",
       "      <td>BICICLETA</td>\n",
       "      <td>CONDUCTOR</td>\n",
       "      <td>HOMBRE</td>\n",
       "      <td>HL</td>\n",
       "      <td>DE 18 A 20 AÑOS</td>\n",
       "    </tr>\n",
       "    <tr>\n",
       "      <th>3</th>\n",
       "      <td>2017-01-04</td>\n",
       "      <td>DE 21:00 A 21:59</td>\n",
       "      <td>MIERCOLES</td>\n",
       "      <td>CENTRO</td>\n",
       "      <td>CALLE DE LA CAVA DE SAN MIGUEL NUM            ...</td>\n",
       "      <td>13</td>\n",
       "      <td>2017/124</td>\n",
       "      <td>NO</td>\n",
       "      <td>NO</td>\n",
       "      <td>NO</td>\n",
       "      <td>...</td>\n",
       "      <td>NO</td>\n",
       "      <td>NO</td>\n",
       "      <td>NO</td>\n",
       "      <td>1</td>\n",
       "      <td>CAÍDA BICICLETA</td>\n",
       "      <td>BICICLETA</td>\n",
       "      <td>CONDUCTOR</td>\n",
       "      <td>HOMBRE</td>\n",
       "      <td>HL</td>\n",
       "      <td>DE 30 A 34 ANOS</td>\n",
       "    </tr>\n",
       "    <tr>\n",
       "      <th>4</th>\n",
       "      <td>2017-01-05</td>\n",
       "      <td>DE 8:00 A 8:59</td>\n",
       "      <td>JUEVES</td>\n",
       "      <td>MONCLOA-ARAVACA</td>\n",
       "      <td>PUENTE DE LOS FRANCESES                       ...</td>\n",
       "      <td>0</td>\n",
       "      <td>2017/206</td>\n",
       "      <td>NO</td>\n",
       "      <td>NO</td>\n",
       "      <td>NO</td>\n",
       "      <td>...</td>\n",
       "      <td>NO</td>\n",
       "      <td>NO</td>\n",
       "      <td>NO</td>\n",
       "      <td>1</td>\n",
       "      <td>CAÍDA BICICLETA</td>\n",
       "      <td>BICICLETA</td>\n",
       "      <td>CONDUCTOR</td>\n",
       "      <td>HOMBRE</td>\n",
       "      <td>HL</td>\n",
       "      <td>DE 45 A 49 AÑOS</td>\n",
       "    </tr>\n",
       "  </tbody>\n",
       "</table>\n",
       "<p>5 rows × 26 columns</p>\n",
       "</div>"
      ],
      "text/plain": [
       "       FECHA     RANGO HORARIO DIA SEMANA                        DISTRITO  \\\n",
       "0 2017-01-01    DE 6:00 A 6:59    DOMINGO  ARGANZUELA                       \n",
       "1 2017-01-02  DE 21:00 A 21:59      LUNES  SAN BLAS                         \n",
       "2 2017-01-03  DE 19:00 A 19:59     MARTES  CENTRO                           \n",
       "3 2017-01-04  DE 21:00 A 21:59  MIERCOLES  CENTRO                           \n",
       "4 2017-01-05    DE 8:00 A 8:59     JUEVES  MONCLOA-ARAVACA                  \n",
       "\n",
       "                                     LUGAR ACCIDENTE   Nº  Nº PARTE  \\\n",
       "0  CALLE DE TOLEDO NUM                           ...  120   2017/88   \n",
       "1  CALLE DE MEQUINENZA NUM                       ...   14   2017/70   \n",
       "2  CALLE DE LA ESCALINATA NUM                    ...    8  2017/307   \n",
       "3  CALLE DE LA CAVA DE SAN MIGUEL NUM            ...   13  2017/124   \n",
       "4  PUENTE DE LOS FRANCESES                       ...    0  2017/206   \n",
       "\n",
       "  CPFA Granizo CPFA Hielo CPFA Lluvia       ...        CPSV Grava Suelta  \\\n",
       "0           NO         NO          NO       ...                       NO   \n",
       "1           NO         NO          NO       ...                       NO   \n",
       "2           NO         NO          NO       ...                       NO   \n",
       "3           NO         NO          NO       ...                       NO   \n",
       "4           NO         NO          NO       ...                       NO   \n",
       "\n",
       "  CPSV Hielo CPSV Seca Y Limpia Nº VICTIMAS *  \\\n",
       "0         NO                 SI             1   \n",
       "1         NO                 SI             1   \n",
       "2         NO                 SI             1   \n",
       "3         NO                 NO             1   \n",
       "4         NO                 NO             1   \n",
       "\n",
       "                             TIPO ACCIDENTE  \\\n",
       "0  CHOQUE CON OBJETO FIJO                     \n",
       "1  CAÍDA BICICLETA                            \n",
       "2  CAÍDA BICICLETA                            \n",
       "3  CAÍDA BICICLETA                            \n",
       "4  CAÍDA BICICLETA                            \n",
       "\n",
       "                              Tipo Vehiculo TIPO PERSONA    SEXO  \\\n",
       "0  BICICLETA                                   CONDUCTOR   MUJER   \n",
       "1  BICICLETA                                   CONDUCTOR  HOMBRE   \n",
       "2  BICICLETA                                   CONDUCTOR  HOMBRE   \n",
       "3  BICICLETA                                   CONDUCTOR  HOMBRE   \n",
       "4  BICICLETA                                   CONDUCTOR  HOMBRE   \n",
       "\n",
       "                                  LESIVIDAD       Tramo Edad  \n",
       "0  HG                                        DE 21 A 24 AÑOS  \n",
       "1  HL                                        DE 25 A 29 AÑOS  \n",
       "2  HL                                        DE 18 A 20 AÑOS  \n",
       "3  HL                                        DE 30 A 34 ANOS  \n",
       "4  HL                                        DE 45 A 49 AÑOS  \n",
       "\n",
       "[5 rows x 26 columns]"
      ]
     },
     "execution_count": 75,
     "metadata": {},
     "output_type": "execute_result"
    }
   ],
   "source": [
    "dfAccidentes17 = pd.read_excel('AccidentesBicicletas_2017.xlsx')\n",
    "dfAccidentes17.head()"
   ]
  },
  {
   "cell_type": "markdown",
   "metadata": {},
   "source": [
    "* **dfAccidentes18:** nos muestra los datos de los accidentes ocurridos en el año 2018."
   ]
  },
  {
   "cell_type": "code",
   "execution_count": 29,
   "metadata": {},
   "outputs": [
    {
     "data": {
      "text/html": [
       "<div>\n",
       "<style scoped>\n",
       "    .dataframe tbody tr th:only-of-type {\n",
       "        vertical-align: middle;\n",
       "    }\n",
       "\n",
       "    .dataframe tbody tr th {\n",
       "        vertical-align: top;\n",
       "    }\n",
       "\n",
       "    .dataframe thead th {\n",
       "        text-align: right;\n",
       "    }\n",
       "</style>\n",
       "<table border=\"1\" class=\"dataframe\">\n",
       "  <thead>\n",
       "    <tr style=\"text-align: right;\">\n",
       "      <th></th>\n",
       "      <th>FECHA</th>\n",
       "      <th>RANGO HORARIO</th>\n",
       "      <th>DIA SEMANA</th>\n",
       "      <th>DISTRITO</th>\n",
       "      <th>LUGAR ACCIDENTE</th>\n",
       "      <th>Nº</th>\n",
       "      <th>Nº PARTE</th>\n",
       "      <th>CPFA Granizo</th>\n",
       "      <th>CPFA Hielo</th>\n",
       "      <th>CPFA Lluvia</th>\n",
       "      <th>...</th>\n",
       "      <th>CPSV Grava Suelta</th>\n",
       "      <th>CPSV Hielo</th>\n",
       "      <th>CPSV Seca Y Limpia</th>\n",
       "      <th>*  Nº VICTIMAS</th>\n",
       "      <th>TIPO ACCIDENTE</th>\n",
       "      <th>Tipo Vehiculo</th>\n",
       "      <th>TIPO PERSONA</th>\n",
       "      <th>SEXO</th>\n",
       "      <th>LESIVIDAD</th>\n",
       "      <th>Tramo Edad</th>\n",
       "    </tr>\n",
       "  </thead>\n",
       "  <tbody>\n",
       "    <tr>\n",
       "      <th>0</th>\n",
       "      <td>2018-01-01</td>\n",
       "      <td>DE 13:00 A 13:59</td>\n",
       "      <td>LUNES</td>\n",
       "      <td>ARGANZUELA</td>\n",
       "      <td>CALLE DE ANCORA - PASEO DE LAS DELICIAS       ...</td>\n",
       "      <td>0</td>\n",
       "      <td>2018/25</td>\n",
       "      <td>NO</td>\n",
       "      <td>NO</td>\n",
       "      <td>NO</td>\n",
       "      <td>...</td>\n",
       "      <td>NO</td>\n",
       "      <td>NO</td>\n",
       "      <td>SI</td>\n",
       "      <td>1</td>\n",
       "      <td>COLISIÓN DOBLE</td>\n",
       "      <td>BICICLETA</td>\n",
       "      <td>CONDUCTOR</td>\n",
       "      <td>HOMBRE</td>\n",
       "      <td>HL</td>\n",
       "      <td>DE 30 A 34 ANOS</td>\n",
       "    </tr>\n",
       "    <tr>\n",
       "      <th>1</th>\n",
       "      <td>2018-01-01</td>\n",
       "      <td>DE 15:00 A 15:59</td>\n",
       "      <td>LUNES</td>\n",
       "      <td>CENTRO</td>\n",
       "      <td>CALLE DE ALCALA NUM                           ...</td>\n",
       "      <td>44</td>\n",
       "      <td>2018/76</td>\n",
       "      <td>NO</td>\n",
       "      <td>NO</td>\n",
       "      <td>NO</td>\n",
       "      <td>...</td>\n",
       "      <td>NO</td>\n",
       "      <td>NO</td>\n",
       "      <td>SI</td>\n",
       "      <td>2</td>\n",
       "      <td>ATROPELLO</td>\n",
       "      <td>BICICLETA</td>\n",
       "      <td>CONDUCTOR</td>\n",
       "      <td>HOMBRE</td>\n",
       "      <td>HL</td>\n",
       "      <td>DE 25 A 29 AÑOS</td>\n",
       "    </tr>\n",
       "    <tr>\n",
       "      <th>2</th>\n",
       "      <td>2018-01-02</td>\n",
       "      <td>DE 12:00 A 12:59</td>\n",
       "      <td>MARTES</td>\n",
       "      <td>SALAMANCA</td>\n",
       "      <td>CALLE DE SERRANO - CALLE DEL CONDE DE ARANDA  ...</td>\n",
       "      <td>0</td>\n",
       "      <td>2018/30</td>\n",
       "      <td>NO</td>\n",
       "      <td>NO</td>\n",
       "      <td>NO</td>\n",
       "      <td>...</td>\n",
       "      <td>NO</td>\n",
       "      <td>NO</td>\n",
       "      <td>SI</td>\n",
       "      <td>2</td>\n",
       "      <td>ATROPELLO</td>\n",
       "      <td>BICICLETA</td>\n",
       "      <td>CONDUCTOR</td>\n",
       "      <td>HOMBRE</td>\n",
       "      <td>HL</td>\n",
       "      <td>DE 40 A 44 AÑOS</td>\n",
       "    </tr>\n",
       "    <tr>\n",
       "      <th>3</th>\n",
       "      <td>2018-01-03</td>\n",
       "      <td>DE 13:00 A 13:59</td>\n",
       "      <td>MIERCOLES</td>\n",
       "      <td>SALAMANCA</td>\n",
       "      <td>PLAZA DE LA INDEPENDENCIA NUM                 ...</td>\n",
       "      <td>5</td>\n",
       "      <td>2018/94</td>\n",
       "      <td>NO</td>\n",
       "      <td>NO</td>\n",
       "      <td>NO</td>\n",
       "      <td>...</td>\n",
       "      <td>NO</td>\n",
       "      <td>NO</td>\n",
       "      <td>SI</td>\n",
       "      <td>1</td>\n",
       "      <td>COLISIÓN DOBLE</td>\n",
       "      <td>BICICLETA</td>\n",
       "      <td>CONDUCTOR</td>\n",
       "      <td>HOMBRE</td>\n",
       "      <td>HL</td>\n",
       "      <td>DE 50 A 54 AÑOS</td>\n",
       "    </tr>\n",
       "    <tr>\n",
       "      <th>4</th>\n",
       "      <td>2018-01-03</td>\n",
       "      <td>DE 15:00 A 15:59</td>\n",
       "      <td>MIERCOLES</td>\n",
       "      <td>CIUDAD LINEAL</td>\n",
       "      <td>CALLE DE RAMIREZ DE ARELLANO NUM              ...</td>\n",
       "      <td>35</td>\n",
       "      <td>2018/361</td>\n",
       "      <td>NO</td>\n",
       "      <td>NO</td>\n",
       "      <td>NO</td>\n",
       "      <td>...</td>\n",
       "      <td>NO</td>\n",
       "      <td>NO</td>\n",
       "      <td>SI</td>\n",
       "      <td>1</td>\n",
       "      <td>COLISIÓN DOBLE</td>\n",
       "      <td>BICICLETA</td>\n",
       "      <td>CONDUCTOR</td>\n",
       "      <td>HOMBRE</td>\n",
       "      <td>HL</td>\n",
       "      <td>DE 25 A 29 AÑOS</td>\n",
       "    </tr>\n",
       "  </tbody>\n",
       "</table>\n",
       "<p>5 rows × 26 columns</p>\n",
       "</div>"
      ],
      "text/plain": [
       "       FECHA     RANGO HORARIO DIA SEMANA                        DISTRITO  \\\n",
       "0 2018-01-01  DE 13:00 A 13:59      LUNES  ARGANZUELA                       \n",
       "1 2018-01-01  DE 15:00 A 15:59      LUNES  CENTRO                           \n",
       "2 2018-01-02  DE 12:00 A 12:59     MARTES  SALAMANCA                        \n",
       "3 2018-01-03  DE 13:00 A 13:59  MIERCOLES  SALAMANCA                        \n",
       "4 2018-01-03  DE 15:00 A 15:59  MIERCOLES  CIUDAD LINEAL                    \n",
       "\n",
       "                                     LUGAR ACCIDENTE  Nº  Nº PARTE  \\\n",
       "0  CALLE DE ANCORA - PASEO DE LAS DELICIAS       ...   0   2018/25   \n",
       "1  CALLE DE ALCALA NUM                           ...  44   2018/76   \n",
       "2  CALLE DE SERRANO - CALLE DEL CONDE DE ARANDA  ...   0   2018/30   \n",
       "3  PLAZA DE LA INDEPENDENCIA NUM                 ...   5   2018/94   \n",
       "4  CALLE DE RAMIREZ DE ARELLANO NUM              ...  35  2018/361   \n",
       "\n",
       "  CPFA Granizo CPFA Hielo CPFA Lluvia       ...        CPSV Grava Suelta  \\\n",
       "0           NO         NO          NO       ...                       NO   \n",
       "1           NO         NO          NO       ...                       NO   \n",
       "2           NO         NO          NO       ...                       NO   \n",
       "3           NO         NO          NO       ...                       NO   \n",
       "4           NO         NO          NO       ...                       NO   \n",
       "\n",
       "  CPSV Hielo CPSV Seca Y Limpia *  Nº VICTIMAS  \\\n",
       "0         NO                 SI              1   \n",
       "1         NO                 SI              2   \n",
       "2         NO                 SI              2   \n",
       "3         NO                 SI              1   \n",
       "4         NO                 SI              1   \n",
       "\n",
       "                             TIPO ACCIDENTE  \\\n",
       "0  COLISIÓN DOBLE                             \n",
       "1  ATROPELLO                                  \n",
       "2  ATROPELLO                                  \n",
       "3  COLISIÓN DOBLE                             \n",
       "4  COLISIÓN DOBLE                             \n",
       "\n",
       "                              Tipo Vehiculo TIPO PERSONA    SEXO  \\\n",
       "0  BICICLETA                                   CONDUCTOR  HOMBRE   \n",
       "1  BICICLETA                                   CONDUCTOR  HOMBRE   \n",
       "2  BICICLETA                                   CONDUCTOR  HOMBRE   \n",
       "3  BICICLETA                                   CONDUCTOR  HOMBRE   \n",
       "4  BICICLETA                                   CONDUCTOR  HOMBRE   \n",
       "\n",
       "                                  LESIVIDAD       Tramo Edad  \n",
       "0  HL                                        DE 30 A 34 ANOS  \n",
       "1  HL                                        DE 25 A 29 AÑOS  \n",
       "2  HL                                        DE 40 A 44 AÑOS  \n",
       "3  HL                                        DE 50 A 54 AÑOS  \n",
       "4  HL                                        DE 25 A 29 AÑOS  \n",
       "\n",
       "[5 rows x 26 columns]"
      ]
     },
     "execution_count": 29,
     "metadata": {},
     "output_type": "execute_result"
    }
   ],
   "source": [
    "dfAccidentes18 = pd.read_excel('AccidentesBicicletas_2018.xlsx')\n",
    "dfAccidentes18.head()"
   ]
  },
  {
   "cell_type": "markdown",
   "metadata": {},
   "source": [
    "* **dfAccidentes1718:** consiste en un dataframe que muestra los datos de los accidentes que tuvieron lugar tanto en los años 2017 y 2018."
   ]
  },
  {
   "cell_type": "code",
   "execution_count": 30,
   "metadata": {
    "scrolled": true
   },
   "outputs": [
    {
     "data": {
      "text/html": [
       "<div>\n",
       "<style scoped>\n",
       "    .dataframe tbody tr th:only-of-type {\n",
       "        vertical-align: middle;\n",
       "    }\n",
       "\n",
       "    .dataframe tbody tr th {\n",
       "        vertical-align: top;\n",
       "    }\n",
       "\n",
       "    .dataframe thead th {\n",
       "        text-align: right;\n",
       "    }\n",
       "</style>\n",
       "<table border=\"1\" class=\"dataframe\">\n",
       "  <thead>\n",
       "    <tr style=\"text-align: right;\">\n",
       "      <th></th>\n",
       "      <th>FECHA</th>\n",
       "      <th>RANGO HORARIO</th>\n",
       "      <th>DIA SEMANA</th>\n",
       "      <th>DISTRITO</th>\n",
       "      <th>LUGAR ACCIDENTE</th>\n",
       "      <th>Nº</th>\n",
       "      <th>Nº PARTE</th>\n",
       "      <th>CPFA Granizo</th>\n",
       "      <th>CPFA Hielo</th>\n",
       "      <th>CPFA Lluvia</th>\n",
       "      <th>...</th>\n",
       "      <th>CPSV Hielo</th>\n",
       "      <th>CPSV Seca Y Limpia</th>\n",
       "      <th>Nº VICTIMAS *</th>\n",
       "      <th>TIPO ACCIDENTE</th>\n",
       "      <th>Tipo Vehiculo</th>\n",
       "      <th>TIPO PERSONA</th>\n",
       "      <th>SEXO</th>\n",
       "      <th>LESIVIDAD</th>\n",
       "      <th>Tramo Edad</th>\n",
       "      <th>*  Nº VICTIMAS</th>\n",
       "    </tr>\n",
       "  </thead>\n",
       "  <tbody>\n",
       "    <tr>\n",
       "      <th>0</th>\n",
       "      <td>2017-01-01</td>\n",
       "      <td>DE 6:00 A 6:59</td>\n",
       "      <td>DOMINGO</td>\n",
       "      <td>ARGANZUELA</td>\n",
       "      <td>CALLE DE TOLEDO NUM                           ...</td>\n",
       "      <td>120</td>\n",
       "      <td>2017/88</td>\n",
       "      <td>NO</td>\n",
       "      <td>NO</td>\n",
       "      <td>NO</td>\n",
       "      <td>...</td>\n",
       "      <td>NO</td>\n",
       "      <td>SI</td>\n",
       "      <td>1.0</td>\n",
       "      <td>CHOQUE CON OBJETO FIJO</td>\n",
       "      <td>BICICLETA</td>\n",
       "      <td>CONDUCTOR</td>\n",
       "      <td>MUJER</td>\n",
       "      <td>HG</td>\n",
       "      <td>DE 21 A 24 AÑOS</td>\n",
       "      <td>NaN</td>\n",
       "    </tr>\n",
       "    <tr>\n",
       "      <th>1</th>\n",
       "      <td>2017-01-02</td>\n",
       "      <td>DE 21:00 A 21:59</td>\n",
       "      <td>LUNES</td>\n",
       "      <td>SAN BLAS</td>\n",
       "      <td>CALLE DE MEQUINENZA NUM                       ...</td>\n",
       "      <td>14</td>\n",
       "      <td>2017/70</td>\n",
       "      <td>NO</td>\n",
       "      <td>NO</td>\n",
       "      <td>NO</td>\n",
       "      <td>...</td>\n",
       "      <td>NO</td>\n",
       "      <td>SI</td>\n",
       "      <td>1.0</td>\n",
       "      <td>CAÍDA BICICLETA</td>\n",
       "      <td>BICICLETA</td>\n",
       "      <td>CONDUCTOR</td>\n",
       "      <td>HOMBRE</td>\n",
       "      <td>HL</td>\n",
       "      <td>DE 25 A 29 AÑOS</td>\n",
       "      <td>NaN</td>\n",
       "    </tr>\n",
       "    <tr>\n",
       "      <th>2</th>\n",
       "      <td>2017-01-03</td>\n",
       "      <td>DE 19:00 A 19:59</td>\n",
       "      <td>MARTES</td>\n",
       "      <td>CENTRO</td>\n",
       "      <td>CALLE DE LA ESCALINATA NUM                    ...</td>\n",
       "      <td>8</td>\n",
       "      <td>2017/307</td>\n",
       "      <td>NO</td>\n",
       "      <td>NO</td>\n",
       "      <td>NO</td>\n",
       "      <td>...</td>\n",
       "      <td>NO</td>\n",
       "      <td>SI</td>\n",
       "      <td>1.0</td>\n",
       "      <td>CAÍDA BICICLETA</td>\n",
       "      <td>BICICLETA</td>\n",
       "      <td>CONDUCTOR</td>\n",
       "      <td>HOMBRE</td>\n",
       "      <td>HL</td>\n",
       "      <td>DE 18 A 20 AÑOS</td>\n",
       "      <td>NaN</td>\n",
       "    </tr>\n",
       "    <tr>\n",
       "      <th>3</th>\n",
       "      <td>2017-01-04</td>\n",
       "      <td>DE 21:00 A 21:59</td>\n",
       "      <td>MIERCOLES</td>\n",
       "      <td>CENTRO</td>\n",
       "      <td>CALLE DE LA CAVA DE SAN MIGUEL NUM            ...</td>\n",
       "      <td>13</td>\n",
       "      <td>2017/124</td>\n",
       "      <td>NO</td>\n",
       "      <td>NO</td>\n",
       "      <td>NO</td>\n",
       "      <td>...</td>\n",
       "      <td>NO</td>\n",
       "      <td>NO</td>\n",
       "      <td>1.0</td>\n",
       "      <td>CAÍDA BICICLETA</td>\n",
       "      <td>BICICLETA</td>\n",
       "      <td>CONDUCTOR</td>\n",
       "      <td>HOMBRE</td>\n",
       "      <td>HL</td>\n",
       "      <td>DE 30 A 34 ANOS</td>\n",
       "      <td>NaN</td>\n",
       "    </tr>\n",
       "    <tr>\n",
       "      <th>4</th>\n",
       "      <td>2017-01-05</td>\n",
       "      <td>DE 8:00 A 8:59</td>\n",
       "      <td>JUEVES</td>\n",
       "      <td>MONCLOA-ARAVACA</td>\n",
       "      <td>PUENTE DE LOS FRANCESES                       ...</td>\n",
       "      <td>0</td>\n",
       "      <td>2017/206</td>\n",
       "      <td>NO</td>\n",
       "      <td>NO</td>\n",
       "      <td>NO</td>\n",
       "      <td>...</td>\n",
       "      <td>NO</td>\n",
       "      <td>NO</td>\n",
       "      <td>1.0</td>\n",
       "      <td>CAÍDA BICICLETA</td>\n",
       "      <td>BICICLETA</td>\n",
       "      <td>CONDUCTOR</td>\n",
       "      <td>HOMBRE</td>\n",
       "      <td>HL</td>\n",
       "      <td>DE 45 A 49 AÑOS</td>\n",
       "      <td>NaN</td>\n",
       "    </tr>\n",
       "  </tbody>\n",
       "</table>\n",
       "<p>5 rows × 27 columns</p>\n",
       "</div>"
      ],
      "text/plain": [
       "       FECHA     RANGO HORARIO DIA SEMANA                        DISTRITO  \\\n",
       "0 2017-01-01    DE 6:00 A 6:59    DOMINGO  ARGANZUELA                       \n",
       "1 2017-01-02  DE 21:00 A 21:59      LUNES  SAN BLAS                         \n",
       "2 2017-01-03  DE 19:00 A 19:59     MARTES  CENTRO                           \n",
       "3 2017-01-04  DE 21:00 A 21:59  MIERCOLES  CENTRO                           \n",
       "4 2017-01-05    DE 8:00 A 8:59     JUEVES  MONCLOA-ARAVACA                  \n",
       "\n",
       "                                     LUGAR ACCIDENTE   Nº  Nº PARTE  \\\n",
       "0  CALLE DE TOLEDO NUM                           ...  120   2017/88   \n",
       "1  CALLE DE MEQUINENZA NUM                       ...   14   2017/70   \n",
       "2  CALLE DE LA ESCALINATA NUM                    ...    8  2017/307   \n",
       "3  CALLE DE LA CAVA DE SAN MIGUEL NUM            ...   13  2017/124   \n",
       "4  PUENTE DE LOS FRANCESES                       ...    0  2017/206   \n",
       "\n",
       "  CPFA Granizo CPFA Hielo CPFA Lluvia       ...       CPSV Hielo  \\\n",
       "0           NO         NO          NO       ...               NO   \n",
       "1           NO         NO          NO       ...               NO   \n",
       "2           NO         NO          NO       ...               NO   \n",
       "3           NO         NO          NO       ...               NO   \n",
       "4           NO         NO          NO       ...               NO   \n",
       "\n",
       "  CPSV Seca Y Limpia Nº VICTIMAS *                            TIPO ACCIDENTE  \\\n",
       "0                 SI           1.0  CHOQUE CON OBJETO FIJO                     \n",
       "1                 SI           1.0  CAÍDA BICICLETA                            \n",
       "2                 SI           1.0  CAÍDA BICICLETA                            \n",
       "3                 NO           1.0  CAÍDA BICICLETA                            \n",
       "4                 NO           1.0  CAÍDA BICICLETA                            \n",
       "\n",
       "                              Tipo Vehiculo TIPO PERSONA    SEXO  \\\n",
       "0  BICICLETA                                   CONDUCTOR   MUJER   \n",
       "1  BICICLETA                                   CONDUCTOR  HOMBRE   \n",
       "2  BICICLETA                                   CONDUCTOR  HOMBRE   \n",
       "3  BICICLETA                                   CONDUCTOR  HOMBRE   \n",
       "4  BICICLETA                                   CONDUCTOR  HOMBRE   \n",
       "\n",
       "                                  LESIVIDAD       Tramo Edad  *  Nº VICTIMAS  \n",
       "0  HG                                        DE 21 A 24 AÑOS             NaN  \n",
       "1  HL                                        DE 25 A 29 AÑOS             NaN  \n",
       "2  HL                                        DE 18 A 20 AÑOS             NaN  \n",
       "3  HL                                        DE 30 A 34 ANOS             NaN  \n",
       "4  HL                                        DE 45 A 49 AÑOS             NaN  \n",
       "\n",
       "[5 rows x 27 columns]"
      ]
     },
     "execution_count": 30,
     "metadata": {},
     "output_type": "execute_result"
    }
   ],
   "source": [
    "# Unimos los dos dataframes\n",
    "dfAccidentes1718 = dfAccidentes17.append(dfAccidentes18, ignore_index=True, sort = False)\n",
    "dfAccidentes1718.head()"
   ]
  },
  {
   "cell_type": "code",
   "execution_count": 31,
   "metadata": {},
   "outputs": [
    {
     "data": {
      "text/html": [
       "<div>\n",
       "<style scoped>\n",
       "    .dataframe tbody tr th:only-of-type {\n",
       "        vertical-align: middle;\n",
       "    }\n",
       "\n",
       "    .dataframe tbody tr th {\n",
       "        vertical-align: top;\n",
       "    }\n",
       "\n",
       "    .dataframe thead th {\n",
       "        text-align: right;\n",
       "    }\n",
       "</style>\n",
       "<table border=\"1\" class=\"dataframe\">\n",
       "  <thead>\n",
       "    <tr style=\"text-align: right;\">\n",
       "      <th></th>\n",
       "      <th>FECHA</th>\n",
       "      <th>RANGO HORARIO</th>\n",
       "      <th>DIA SEMANA</th>\n",
       "      <th>DISTRITO</th>\n",
       "      <th>LUGAR ACCIDENTE</th>\n",
       "      <th>Nº</th>\n",
       "      <th>Nº PARTE</th>\n",
       "      <th>CPFA Granizo</th>\n",
       "      <th>CPFA Hielo</th>\n",
       "      <th>CPFA Lluvia</th>\n",
       "      <th>...</th>\n",
       "      <th>CPSV Hielo</th>\n",
       "      <th>CPSV Seca Y Limpia</th>\n",
       "      <th>Nº VICTIMAS *</th>\n",
       "      <th>TIPO ACCIDENTE</th>\n",
       "      <th>Tipo Vehiculo</th>\n",
       "      <th>TIPO PERSONA</th>\n",
       "      <th>SEXO</th>\n",
       "      <th>LESIVIDAD</th>\n",
       "      <th>Tramo Edad</th>\n",
       "      <th>Nº VICTIMAS 2018</th>\n",
       "    </tr>\n",
       "  </thead>\n",
       "  <tbody>\n",
       "    <tr>\n",
       "      <th>0</th>\n",
       "      <td>2017-01-01</td>\n",
       "      <td>DE 6:00 A 6:59</td>\n",
       "      <td>DOMINGO</td>\n",
       "      <td>ARGANZUELA</td>\n",
       "      <td>CALLE DE TOLEDO NUM                           ...</td>\n",
       "      <td>120</td>\n",
       "      <td>2017/88</td>\n",
       "      <td>NO</td>\n",
       "      <td>NO</td>\n",
       "      <td>NO</td>\n",
       "      <td>...</td>\n",
       "      <td>NO</td>\n",
       "      <td>SI</td>\n",
       "      <td>1.0</td>\n",
       "      <td>CHOQUE CON OBJETO FIJO</td>\n",
       "      <td>BICICLETA</td>\n",
       "      <td>CONDUCTOR</td>\n",
       "      <td>MUJER</td>\n",
       "      <td>HG</td>\n",
       "      <td>DE 21 A 24 AÑOS</td>\n",
       "      <td>NaN</td>\n",
       "    </tr>\n",
       "    <tr>\n",
       "      <th>1</th>\n",
       "      <td>2017-01-02</td>\n",
       "      <td>DE 21:00 A 21:59</td>\n",
       "      <td>LUNES</td>\n",
       "      <td>SAN BLAS</td>\n",
       "      <td>CALLE DE MEQUINENZA NUM                       ...</td>\n",
       "      <td>14</td>\n",
       "      <td>2017/70</td>\n",
       "      <td>NO</td>\n",
       "      <td>NO</td>\n",
       "      <td>NO</td>\n",
       "      <td>...</td>\n",
       "      <td>NO</td>\n",
       "      <td>SI</td>\n",
       "      <td>1.0</td>\n",
       "      <td>CAÍDA BICICLETA</td>\n",
       "      <td>BICICLETA</td>\n",
       "      <td>CONDUCTOR</td>\n",
       "      <td>HOMBRE</td>\n",
       "      <td>HL</td>\n",
       "      <td>DE 25 A 29 AÑOS</td>\n",
       "      <td>NaN</td>\n",
       "    </tr>\n",
       "    <tr>\n",
       "      <th>2</th>\n",
       "      <td>2017-01-03</td>\n",
       "      <td>DE 19:00 A 19:59</td>\n",
       "      <td>MARTES</td>\n",
       "      <td>CENTRO</td>\n",
       "      <td>CALLE DE LA ESCALINATA NUM                    ...</td>\n",
       "      <td>8</td>\n",
       "      <td>2017/307</td>\n",
       "      <td>NO</td>\n",
       "      <td>NO</td>\n",
       "      <td>NO</td>\n",
       "      <td>...</td>\n",
       "      <td>NO</td>\n",
       "      <td>SI</td>\n",
       "      <td>1.0</td>\n",
       "      <td>CAÍDA BICICLETA</td>\n",
       "      <td>BICICLETA</td>\n",
       "      <td>CONDUCTOR</td>\n",
       "      <td>HOMBRE</td>\n",
       "      <td>HL</td>\n",
       "      <td>DE 18 A 20 AÑOS</td>\n",
       "      <td>NaN</td>\n",
       "    </tr>\n",
       "    <tr>\n",
       "      <th>3</th>\n",
       "      <td>2017-01-04</td>\n",
       "      <td>DE 21:00 A 21:59</td>\n",
       "      <td>MIERCOLES</td>\n",
       "      <td>CENTRO</td>\n",
       "      <td>CALLE DE LA CAVA DE SAN MIGUEL NUM            ...</td>\n",
       "      <td>13</td>\n",
       "      <td>2017/124</td>\n",
       "      <td>NO</td>\n",
       "      <td>NO</td>\n",
       "      <td>NO</td>\n",
       "      <td>...</td>\n",
       "      <td>NO</td>\n",
       "      <td>NO</td>\n",
       "      <td>1.0</td>\n",
       "      <td>CAÍDA BICICLETA</td>\n",
       "      <td>BICICLETA</td>\n",
       "      <td>CONDUCTOR</td>\n",
       "      <td>HOMBRE</td>\n",
       "      <td>HL</td>\n",
       "      <td>DE 30 A 34 ANOS</td>\n",
       "      <td>NaN</td>\n",
       "    </tr>\n",
       "    <tr>\n",
       "      <th>4</th>\n",
       "      <td>2017-01-05</td>\n",
       "      <td>DE 8:00 A 8:59</td>\n",
       "      <td>JUEVES</td>\n",
       "      <td>MONCLOA-ARAVACA</td>\n",
       "      <td>PUENTE DE LOS FRANCESES                       ...</td>\n",
       "      <td>0</td>\n",
       "      <td>2017/206</td>\n",
       "      <td>NO</td>\n",
       "      <td>NO</td>\n",
       "      <td>NO</td>\n",
       "      <td>...</td>\n",
       "      <td>NO</td>\n",
       "      <td>NO</td>\n",
       "      <td>1.0</td>\n",
       "      <td>CAÍDA BICICLETA</td>\n",
       "      <td>BICICLETA</td>\n",
       "      <td>CONDUCTOR</td>\n",
       "      <td>HOMBRE</td>\n",
       "      <td>HL</td>\n",
       "      <td>DE 45 A 49 AÑOS</td>\n",
       "      <td>NaN</td>\n",
       "    </tr>\n",
       "  </tbody>\n",
       "</table>\n",
       "<p>5 rows × 27 columns</p>\n",
       "</div>"
      ],
      "text/plain": [
       "       FECHA     RANGO HORARIO DIA SEMANA                        DISTRITO  \\\n",
       "0 2017-01-01    DE 6:00 A 6:59    DOMINGO  ARGANZUELA                       \n",
       "1 2017-01-02  DE 21:00 A 21:59      LUNES  SAN BLAS                         \n",
       "2 2017-01-03  DE 19:00 A 19:59     MARTES  CENTRO                           \n",
       "3 2017-01-04  DE 21:00 A 21:59  MIERCOLES  CENTRO                           \n",
       "4 2017-01-05    DE 8:00 A 8:59     JUEVES  MONCLOA-ARAVACA                  \n",
       "\n",
       "                                     LUGAR ACCIDENTE   Nº  Nº PARTE  \\\n",
       "0  CALLE DE TOLEDO NUM                           ...  120   2017/88   \n",
       "1  CALLE DE MEQUINENZA NUM                       ...   14   2017/70   \n",
       "2  CALLE DE LA ESCALINATA NUM                    ...    8  2017/307   \n",
       "3  CALLE DE LA CAVA DE SAN MIGUEL NUM            ...   13  2017/124   \n",
       "4  PUENTE DE LOS FRANCESES                       ...    0  2017/206   \n",
       "\n",
       "  CPFA Granizo CPFA Hielo CPFA Lluvia        ...        CPSV Hielo  \\\n",
       "0           NO         NO          NO        ...                NO   \n",
       "1           NO         NO          NO        ...                NO   \n",
       "2           NO         NO          NO        ...                NO   \n",
       "3           NO         NO          NO        ...                NO   \n",
       "4           NO         NO          NO        ...                NO   \n",
       "\n",
       "  CPSV Seca Y Limpia Nº VICTIMAS *                            TIPO ACCIDENTE  \\\n",
       "0                 SI           1.0  CHOQUE CON OBJETO FIJO                     \n",
       "1                 SI           1.0  CAÍDA BICICLETA                            \n",
       "2                 SI           1.0  CAÍDA BICICLETA                            \n",
       "3                 NO           1.0  CAÍDA BICICLETA                            \n",
       "4                 NO           1.0  CAÍDA BICICLETA                            \n",
       "\n",
       "                              Tipo Vehiculo TIPO PERSONA    SEXO  \\\n",
       "0  BICICLETA                                   CONDUCTOR   MUJER   \n",
       "1  BICICLETA                                   CONDUCTOR  HOMBRE   \n",
       "2  BICICLETA                                   CONDUCTOR  HOMBRE   \n",
       "3  BICICLETA                                   CONDUCTOR  HOMBRE   \n",
       "4  BICICLETA                                   CONDUCTOR  HOMBRE   \n",
       "\n",
       "                                  LESIVIDAD       Tramo Edad  Nº VICTIMAS 2018  \n",
       "0  HG                                        DE 21 A 24 AÑOS               NaN  \n",
       "1  HL                                        DE 25 A 29 AÑOS               NaN  \n",
       "2  HL                                        DE 18 A 20 AÑOS               NaN  \n",
       "3  HL                                        DE 30 A 34 ANOS               NaN  \n",
       "4  HL                                        DE 45 A 49 AÑOS               NaN  \n",
       "\n",
       "[5 rows x 27 columns]"
      ]
     },
     "execution_count": 31,
     "metadata": {},
     "output_type": "execute_result"
    }
   ],
   "source": [
    "# Cambiamos los nombres de las columnas Nº Victimas ya que vienen con el mismo nombre, de manera que se puedan diferenciar (ya que cada una corresponde a un año diferente)\n",
    "dfAccidentes1718 = dfAccidentes1718.rename(columns={'*  Nº VICTIMAS': 'Nº VICTIMAS 2018'})\n",
    "dfAccidentes1718.head()"
   ]
  },
  {
   "cell_type": "markdown",
   "metadata": {},
   "source": [
    "### Análisis de Datos Unilateral"
   ]
  },
  {
   "cell_type": "markdown",
   "metadata": {},
   "source": [
    "**1. Número de victimas a lo largo del año 2017**"
   ]
  },
  {
   "cell_type": "code",
   "execution_count": 32,
   "metadata": {},
   "outputs": [
    {
     "data": {
      "image/png": "[encoded data removed]",
      "text/plain": [
       "<Figure size 1440x360 with 1 Axes>"
      ]
     },
     "metadata": {},
     "output_type": "display_data"
    }
   ],
   "source": [
    "# Gráfico que muestra el numero de victimas a lo largo del año 2017\n",
    "plot = dfAccidentes17.plot(y='Nº VICTIMAS *', x= 'FECHA' ,figsize=(20, 5), linewidth = 2, color= 'purple', title=('Nº Victimas Año 2017'))"
   ]
  },
  {
   "cell_type": "markdown",
   "metadata": {},
   "source": [
    "En el año 2017, se muestra un número de víctimas que se mantiene bastante regular, variando entre 1 y 3, siendo este último el máximo alcanzado, como se muestra a continuación detalladamente:"
   ]
  },
  {
   "cell_type": "code",
   "execution_count": 33,
   "metadata": {},
   "outputs": [
    {
     "data": {
      "text/plain": [
       "FECHA                                               2017-12-31 00:00:00\n",
       "RANGO HORARIO                                            DE 9:00 A 9:59\n",
       "DIA SEMANA                                                      VIERNES\n",
       "DISTRITO                                 VILLAVERDE                    \n",
       "LUGAR ACCIDENTE       RONDA DE TOLEDO NUM                           ...\n",
       "Nº PARTE                                                        2018/19\n",
       "CPFA Granizo                                                         NO\n",
       "CPFA Hielo                                                           SI\n",
       "CPFA Lluvia                                                          SI\n",
       "CPFA Niebla                                                          SI\n",
       "CPFA Seco                                                            SI\n",
       "CPFA Nieve                                                           NO\n",
       "CPSV Mojada                                                          SI\n",
       "CPSV Aceite                                                          SI\n",
       "CPSV Barro                                                           SI\n",
       "CPSV Grava Suelta                                                    SI\n",
       "CPSV Hielo                                                           SI\n",
       "CPSV Seca Y Limpia                                                   SI\n",
       "Nº VICTIMAS *                                                         3\n",
       "TIPO ACCIDENTE                 COLISIÓN MÚLTIPLE                       \n",
       "Tipo Vehiculo                  BICICLETA                               \n",
       "TIPO PERSONA                   VIAJERO                                 \n",
       "SEXO                                                        NO ASIGNADO\n",
       "LESIVIDAD                                                   NO ASIGNADA\n",
       "Tramo Edad                                                  DESCONOCIDA\n",
       "dtype: object"
      ]
     },
     "execution_count": 33,
     "metadata": {},
     "output_type": "execute_result"
    }
   ],
   "source": [
    "dfAccidentes17.max()"
   ]
  },
  {
   "cell_type": "markdown",
   "metadata": {},
   "source": [
    "**2. Número de victimas a lo largo del año 2018**"
   ]
  },
  {
   "cell_type": "code",
   "execution_count": 34,
   "metadata": {},
   "outputs": [
    {
     "data": {
      "image/png": "[encoded data removed]",
      "text/plain": [
       "<Figure size 1440x720 with 1 Axes>"
      ]
     },
     "metadata": {},
     "output_type": "display_data"
    }
   ],
   "source": [
    "# Gráfico que muestra el numero de victimas a lo largo del año 2018\n",
    "plot = dfAccidentes18.plot(y='*  Nº VICTIMAS', x= 'FECHA' ,figsize=(20, 10),linewidth = 2, color= 'c',title=('Nº Victimas AÑO 2018'))"
   ]
  },
  {
   "cell_type": "markdown",
   "metadata": {},
   "source": [
    "Durante todo el año se mantiene constante entre una víctima, siendo este número la mayoría, y dos victimas. Cabe destacar un gran número de victimas en el mes de julio-agosto; llegando a las 14 víctimas. A continuación se muestra en detalle de este suceso:"
   ]
  },
  {
   "cell_type": "code",
   "execution_count": 35,
   "metadata": {},
   "outputs": [
    {
     "data": {
      "text/plain": [
       "FECHA                                               2018-11-29 00:00:00\n",
       "RANGO HORARIO                                            DE 9:00 A 9:59\n",
       "DIA SEMANA                                                      VIERNES\n",
       "DISTRITO                                 VILLAVERDE                    \n",
       "LUGAR ACCIDENTE       RONDA DEL CABALLERO DE LA MANCHA NUM          ...\n",
       "Nº PARTE                                                      2018/9998\n",
       "CPFA Granizo                                                         NO\n",
       "CPFA Hielo                                                           SI\n",
       "CPFA Lluvia                                                          SI\n",
       "CPFA Niebla                                                          SI\n",
       "CPFA Seco                                                            SI\n",
       "CPFA Nieve                                                           NO\n",
       "CPSV Mojada                                                          SI\n",
       "CPSV Aceite                                                          SI\n",
       "CPSV Barro                                                           SI\n",
       "CPSV Grava Suelta                                                    SI\n",
       "CPSV Hielo                                                           SI\n",
       "CPSV Seca Y Limpia                                                   SI\n",
       "*  Nº VICTIMAS                                                       15\n",
       "TIPO ACCIDENTE                 COLISIÓN MÚLTIPLE                       \n",
       "Tipo Vehiculo                  BICICLETA                               \n",
       "TIPO PERSONA                   VIAJERO                                 \n",
       "SEXO                                                        NO ASIGNADO\n",
       "LESIVIDAD                                                   NO ASIGNADA\n",
       "Tramo Edad                                                  DESCONOCIDA\n",
       "dtype: object"
      ]
     },
     "execution_count": 35,
     "metadata": {},
     "output_type": "execute_result"
    }
   ],
   "source": [
    "dfAccidentes18.max()"
   ]
  },
  {
   "cell_type": "markdown",
   "metadata": {},
   "source": [
    "**3. Número de Víctimas por DISTRITO en Madrid**"
   ]
  },
  {
   "cell_type": "markdown",
   "metadata": {},
   "source": [
    "Vamos a comparar el número de víctimas por accidentes de tráfico implicando bicicletas en distintos distritos de Madrid."
   ]
  },
  {
   "cell_type": "code",
   "execution_count": 36,
   "metadata": {},
   "outputs": [
    {
     "data": {
      "text/plain": [
       "Nº VICTIMAS *       831.0\n",
       "Nº VICTIMAS 2018    755.0\n",
       "dtype: float64"
      ]
     },
     "execution_count": 36,
     "metadata": {},
     "output_type": "execute_result"
    }
   ],
   "source": [
    "# Primero calculamos el número total de víctimas de ambos años en todos los distritos\n",
    "dfAccidentes1718.sum()"
   ]
  },
  {
   "cell_type": "markdown",
   "metadata": {},
   "source": [
    "Podemos comprobar que la cantidad se ha reducido considerablemente de un año para otro. Podría marcar el camino hacia la supresión de accidentes en un futuro."
   ]
  },
  {
   "cell_type": "code",
   "execution_count": 37,
   "metadata": {},
   "outputs": [
    {
     "data": {
      "text/plain": [
       "array(['ARGANZUELA                    ', 'SAN BLAS                      ',\n",
       "       'CENTRO                        ', 'MONCLOA-ARAVACA               ',\n",
       "       'LATINA                        ', 'TETUAN                        ',\n",
       "       'FUENCARRAL-EL PARDO           ', 'BARAJAS                       ',\n",
       "       'RETIRO                        ', 'VICALVARO                     ',\n",
       "       'CIUDAD LINEAL                 ', 'HORTALEZA                     ',\n",
       "       'CHAMARTIN                     ', 'CARABANCHEL                   ',\n",
       "       'SALAMANCA                     ', 'CHAMBERI                      ',\n",
       "       'PUENTE DE VALLECAS            ', 'VILLA DE VALLECAS             ',\n",
       "       'VILLAVERDE                    ', 'USERA                         ',\n",
       "       'MORATALAZ                     '], dtype=object)"
      ]
     },
     "execution_count": 37,
     "metadata": {},
     "output_type": "execute_result"
    }
   ],
   "source": [
    "# Comprobamos el formato en el que se encuentran las variables para poder trabajar con ellas\n",
    "dfAccidentes1718.DISTRITO.unique()"
   ]
  },
  {
   "cell_type": "code",
   "execution_count": 38,
   "metadata": {},
   "outputs": [
    {
     "data": {
      "text/plain": [
       "Nº VICTIMAS *       150.0\n",
       "Nº VICTIMAS 2018    139.0\n",
       "dtype: float64"
      ]
     },
     "execution_count": 38,
     "metadata": {},
     "output_type": "execute_result"
    }
   ],
   "source": [
    "# Número de victimas de accidentes del distrito CENTRO\n",
    "dfAccidentes1718[dfAccidentes1718['DISTRITO'] == 'CENTRO                        '].sum()"
   ]
  },
  {
   "cell_type": "code",
   "execution_count": 39,
   "metadata": {},
   "outputs": [
    {
     "data": {
      "text/plain": [
       "Nº VICTIMAS *       34.0\n",
       "Nº VICTIMAS 2018    24.0\n",
       "dtype: float64"
      ]
     },
     "execution_count": 39,
     "metadata": {},
     "output_type": "execute_result"
    }
   ],
   "source": [
    "# Número de victimas de accidentes del distrito Hortaleza\n",
    "dfAccidentes1718[dfAccidentes1718['DISTRITO'] == 'HORTALEZA                     '].sum()"
   ]
  },
  {
   "cell_type": "code",
   "execution_count": 40,
   "metadata": {},
   "outputs": [
    {
     "data": {
      "text/plain": [
       "Nº VICTIMAS *       17.0\n",
       "Nº VICTIMAS 2018    13.0\n",
       "dtype: float64"
      ]
     },
     "execution_count": 40,
     "metadata": {},
     "output_type": "execute_result"
    }
   ],
   "source": [
    "# Número de victimas de accidentes del distrito VILLAVERDE\n",
    "dfAccidentes1718[dfAccidentes1718['DISTRITO'] == 'VILLAVERDE                    '].sum()"
   ]
  },
  {
   "cell_type": "markdown",
   "metadata": {},
   "source": [
    "Este análisis nos permite comprobar que en la periferia parecen tener lugar menos accidentes, además la diferencia es bastante significativa. La zona centro, es la que presenta los datos más altos. Esto se debe probablemente a que es la zona que recibe mayor tasa de tráfico, en comparación con zonas mas al exterior, donde el tráfico no se conoce que sea tan denso como en la almendra central. Podemos emplear ahora el mapa modelado previamente, donde se muestran la densidad de bases de BiciMad. Este mapa nos mostraba la distribución de las bases como un núcleo en la zona centro que se iba expandiendo y a medida que lo hacia la densidad de bases disminuia. Esto podría tener una estrecha relación con lo revelado en este análisis; parece ser que a medida que nos alejamos de la zona centro los accidentes de bicicletas disminuyen, y podría ser debido a que se emplean menos.\n",
    "\n",
    "Sin embargo, debemos tener en cuenta que las bicicletas convencionales también toman un papel importante aquí. No sabemos si los accidentes implican una bicicleta como estas últimas o una bicicleta BiciMad y por lo tanto no podemos establcer una relación directa entre el uso de BiciMad en cada distrito con los accidente que implican bicicletas. Pero sin duda creemos que puede haber alguna relación de correlación entre uso de BiciMad y el número de accidentes. Especialmente ponemos el foco en el caso de la zona centro, donde el uso de BiciMad es predominante, y se conoce que el número de usuarios es especialmente alto aqui. Por lo tanto, los riesgos de accidente son más altos, teniendo en cuenta también que es una zona muy transitada de tráfico, algo que eleva el riesgo enormemente para todos los usuarios de cualquier tipo de bicicleta."
   ]
  },
  {
   "cell_type": "markdown",
   "metadata": {},
   "source": [
    "**4. Número de Víctimas por EDAD & GENERO en Madrid**"
   ]
  },
  {
   "cell_type": "code",
   "execution_count": 41,
   "metadata": {},
   "outputs": [],
   "source": [
    "# Renombramos la columna Tramo Edad para simplificar la tarea\n",
    "dfAccidentes1718 = dfAccidentes1718.rename(columns={'Tramo Edad': 'Edad'})"
   ]
  },
  {
   "cell_type": "code",
   "execution_count": 42,
   "metadata": {},
   "outputs": [
    {
     "data": {
      "text/plain": [
       "array(['DE 21 A 24 AÑOS', 'DE 25 A 29 AÑOS', 'DE 18 A 20 AÑOS',\n",
       "       'DE 30 A 34 ANOS', 'DE 45 A 49 AÑOS', 'DE 65 A 69 AÑOS',\n",
       "       'DE 35 A 39 AÑOS', 'DE 55 A 59 AÑOS', 'DE 50 A 54 AÑOS',\n",
       "       'DE 40 A 44 AÑOS', 'DE 10 A 14 AÑOS', 'DE 15 A 17 AÑOS',\n",
       "       'DE 6 A 9 AÑOS ', 'DE 60 A 64 AÑOS', 'DE 0 A 5 AÑOS',\n",
       "       'DE MAS DE 74 AÑOS ', 'DESCONOCIDA', 'DE 70 A 74 AÑOS'],\n",
       "      dtype=object)"
      ]
     },
     "execution_count": 42,
     "metadata": {},
     "output_type": "execute_result"
    }
   ],
   "source": [
    "# Comprobamos el formato en el que se encuentran las variables para poder trabajar con ellas\n",
    "dfAccidentes1718.Edad.unique()"
   ]
  },
  {
   "cell_type": "markdown",
   "metadata": {},
   "source": [
    "* **18 a 20 años**"
   ]
  },
  {
   "cell_type": "code",
   "execution_count": 43,
   "metadata": {},
   "outputs": [
    {
     "data": {
      "text/plain": [
       "Nº VICTIMAS *       46.0\n",
       "Nº VICTIMAS 2018    41.0\n",
       "dtype: float64"
      ]
     },
     "execution_count": 43,
     "metadata": {},
     "output_type": "execute_result"
    }
   ],
   "source": [
    "x = dfAccidentes1718.SEXO == 'HOMBRE' \n",
    "y = dfAccidentes1718.Edad == 'DE 18 A 20 AÑOS'\n",
    "dfAccidentes1718[x & y].sum()"
   ]
  },
  {
   "cell_type": "code",
   "execution_count": 44,
   "metadata": {},
   "outputs": [
    {
     "data": {
      "text/plain": [
       "Nº VICTIMAS *       4.0\n",
       "Nº VICTIMAS 2018    8.0\n",
       "dtype: float64"
      ]
     },
     "execution_count": 44,
     "metadata": {},
     "output_type": "execute_result"
    }
   ],
   "source": [
    "x = dfAccidentes1718.SEXO == 'MUJER' \n",
    "y = dfAccidentes1718.Edad == 'DE 18 A 20 AÑOS'\n",
    "dfAccidentes1718[x & y].sum()"
   ]
  },
  {
   "cell_type": "markdown",
   "metadata": {},
   "source": [
    "* **25 a 29 años**"
   ]
  },
  {
   "cell_type": "code",
   "execution_count": 45,
   "metadata": {},
   "outputs": [
    {
     "data": {
      "text/plain": [
       "Nº VICTIMAS *       93.0\n",
       "Nº VICTIMAS 2018    97.0\n",
       "dtype: float64"
      ]
     },
     "execution_count": 45,
     "metadata": {},
     "output_type": "execute_result"
    }
   ],
   "source": [
    "x = dfAccidentes1718.SEXO == 'HOMBRE' \n",
    "y = dfAccidentes1718.Edad == 'DE 25 A 29 AÑOS'\n",
    "dfAccidentes1718[x & y].sum()"
   ]
  },
  {
   "cell_type": "code",
   "execution_count": 46,
   "metadata": {},
   "outputs": [
    {
     "data": {
      "text/plain": [
       "Nº VICTIMAS *       27.0\n",
       "Nº VICTIMAS 2018    30.0\n",
       "dtype: float64"
      ]
     },
     "execution_count": 46,
     "metadata": {},
     "output_type": "execute_result"
    }
   ],
   "source": [
    "x = dfAccidentes1718.SEXO == 'MUJER' \n",
    "y = dfAccidentes1718.Edad == 'DE 25 A 29 AÑOS'\n",
    "dfAccidentes1718[x & y].sum()"
   ]
  },
  {
   "cell_type": "markdown",
   "metadata": {},
   "source": [
    "* **50 a 54 años**"
   ]
  },
  {
   "cell_type": "code",
   "execution_count": 47,
   "metadata": {},
   "outputs": [
    {
     "data": {
      "text/plain": [
       "Nº VICTIMAS *       51.0\n",
       "Nº VICTIMAS 2018    38.0\n",
       "dtype: float64"
      ]
     },
     "execution_count": 47,
     "metadata": {},
     "output_type": "execute_result"
    }
   ],
   "source": [
    "x = dfAccidentes1718.SEXO == 'HOMBRE' \n",
    "y = dfAccidentes1718.Edad == 'DE 50 A 54 AÑOS'\n",
    "dfAccidentes1718[x & y].sum()"
   ]
  },
  {
   "cell_type": "code",
   "execution_count": 48,
   "metadata": {},
   "outputs": [
    {
     "data": {
      "text/plain": [
       "Nº VICTIMAS *        9.0\n",
       "Nº VICTIMAS 2018    10.0\n",
       "dtype: float64"
      ]
     },
     "execution_count": 48,
     "metadata": {},
     "output_type": "execute_result"
    }
   ],
   "source": [
    "x = dfAccidentes1718.SEXO == 'MUJER' \n",
    "y = dfAccidentes1718.Edad == 'DE 50 A 54 AÑOS'\n",
    "dfAccidentes1718[x & y].sum()"
   ]
  },
  {
   "cell_type": "markdown",
   "metadata": {},
   "source": [
    "* **65 a 69 años**"
   ]
  },
  {
   "cell_type": "code",
   "execution_count": 49,
   "metadata": {},
   "outputs": [
    {
     "data": {
      "text/plain": [
       "Nº VICTIMAS *       12.0\n",
       "Nº VICTIMAS 2018    10.0\n",
       "dtype: float64"
      ]
     },
     "execution_count": 49,
     "metadata": {},
     "output_type": "execute_result"
    }
   ],
   "source": [
    "x = dfAccidentes1718.SEXO == 'HOMBRE' \n",
    "y = dfAccidentes1718.Edad == 'DE 65 A 69 AÑOS'\n",
    "dfAccidentes1718[x & y].sum()"
   ]
  },
  {
   "cell_type": "code",
   "execution_count": 50,
   "metadata": {},
   "outputs": [
    {
     "data": {
      "text/plain": [
       "Nº VICTIMAS *       0.0\n",
       "Nº VICTIMAS 2018    2.0\n",
       "dtype: float64"
      ]
     },
     "execution_count": 50,
     "metadata": {},
     "output_type": "execute_result"
    }
   ],
   "source": [
    "x = dfAccidentes1718.SEXO == 'MUJER' \n",
    "y = dfAccidentes1718.Edad == 'DE 65 A 69 AÑOS'\n",
    "dfAccidentes1718[x & y].sum()"
   ]
  },
  {
   "cell_type": "markdown",
   "metadata": {},
   "source": [
    "Podemos ver que para los tres tramos de edad los datos se comportan de manera muy parecida. Se puede concluir a partir de estos datos que los hombres sufren más accidentes con implicación de bicicletas que las mujeres. Las cifras además presentan una diferencia entre ambos generos bastante grande. La variedad entre distintas franjas de edad es a su vez también bastante considerable. Entre las edades comprendidas entre 18-20 y 25-29 las cifras son exactamente las mismas, y las más altas. A medida que incrementan las edades, los números de víctimas decrecen exponencialmente; y siempre el número de mujeres será menor que el de hombres. Es más, podemos ver que no hubo ninguna mujer victima de estos accidentes en los años 2017 y 2018 de edad entre 65 y 69. Es razonable que a esta edad se utilize menos la bicicleta, y por esto hay menos accidentes que impliquen a personas de estas edades."
   ]
  },
  {
   "cell_type": "markdown",
   "metadata": {},
   "source": [
    "**5. Número accidentes en 2017 agrupados por el distrito y diferenciado por sexo**"
   ]
  },
  {
   "cell_type": "code",
   "execution_count": 51,
   "metadata": {},
   "outputs": [
    {
     "data": {
      "text/html": [
       "<div>\n",
       "<style scoped>\n",
       "    .dataframe tbody tr th:only-of-type {\n",
       "        vertical-align: middle;\n",
       "    }\n",
       "\n",
       "    .dataframe tbody tr th {\n",
       "        vertical-align: top;\n",
       "    }\n",
       "\n",
       "    .dataframe thead th {\n",
       "        text-align: right;\n",
       "    }\n",
       "</style>\n",
       "<table border=\"1\" class=\"dataframe\">\n",
       "  <thead>\n",
       "    <tr style=\"text-align: right;\">\n",
       "      <th></th>\n",
       "      <th>FECHA</th>\n",
       "      <th>Nº VICTIMAS *</th>\n",
       "      <th>DISTRITO</th>\n",
       "      <th>SEXO</th>\n",
       "    </tr>\n",
       "  </thead>\n",
       "  <tbody>\n",
       "    <tr>\n",
       "      <th>0</th>\n",
       "      <td>2017-01-01</td>\n",
       "      <td>1</td>\n",
       "      <td>ARGANZUELA</td>\n",
       "      <td>MUJER</td>\n",
       "    </tr>\n",
       "    <tr>\n",
       "      <th>1</th>\n",
       "      <td>2017-01-02</td>\n",
       "      <td>1</td>\n",
       "      <td>SAN BLAS</td>\n",
       "      <td>HOMBRE</td>\n",
       "    </tr>\n",
       "    <tr>\n",
       "      <th>2</th>\n",
       "      <td>2017-01-03</td>\n",
       "      <td>1</td>\n",
       "      <td>CENTRO</td>\n",
       "      <td>HOMBRE</td>\n",
       "    </tr>\n",
       "    <tr>\n",
       "      <th>3</th>\n",
       "      <td>2017-01-04</td>\n",
       "      <td>1</td>\n",
       "      <td>CENTRO</td>\n",
       "      <td>HOMBRE</td>\n",
       "    </tr>\n",
       "    <tr>\n",
       "      <th>4</th>\n",
       "      <td>2017-01-05</td>\n",
       "      <td>1</td>\n",
       "      <td>MONCLOA-ARAVACA</td>\n",
       "      <td>HOMBRE</td>\n",
       "    </tr>\n",
       "  </tbody>\n",
       "</table>\n",
       "</div>"
      ],
      "text/plain": [
       "       FECHA  Nº VICTIMAS *                        DISTRITO    SEXO\n",
       "0 2017-01-01              1  ARGANZUELA                       MUJER\n",
       "1 2017-01-02              1  SAN BLAS                        HOMBRE\n",
       "2 2017-01-03              1  CENTRO                          HOMBRE\n",
       "3 2017-01-04              1  CENTRO                          HOMBRE\n",
       "4 2017-01-05              1  MONCLOA-ARAVACA                 HOMBRE"
      ]
     },
     "execution_count": 51,
     "metadata": {},
     "output_type": "execute_result"
    }
   ],
   "source": [
    "b17 = pd.DataFrame(dfAccidentes17, columns = ['FECHA', 'Nº VICTIMAS *', 'DISTRITO', 'SEXO'])\n",
    "b17.head()"
   ]
  },
  {
   "cell_type": "code",
   "execution_count": 52,
   "metadata": {},
   "outputs": [],
   "source": [
    "# Cambiamos el tipo de 'FECHA' para poder trabajar con ella\n",
    "b17['FECHA'] = b17['FECHA'].apply(lambda x: x.strftime('%Y-%m-%d'))"
   ]
  },
  {
   "cell_type": "code",
   "execution_count": 53,
   "metadata": {},
   "outputs": [
    {
     "data": {
      "text/plain": [
       "<matplotlib.axes._subplots.AxesSubplot at 0x29a86ac42b0>"
      ]
     },
     "execution_count": 53,
     "metadata": {},
     "output_type": "execute_result"
    },
    {
     "data": {
      "image/png": "[encoded data removed]",
      "text/plain": [
       "<Figure size 864x432 with 1 Axes>"
      ]
     },
     "metadata": {},
     "output_type": "display_data"
    }
   ],
   "source": [
    "# Gráfico que muestra el numero accidentes en 2017 agrupados por el distrito y diferenciado por sexo\n",
    "t = b17.groupby(['DISTRITO', 'SEXO'])['DISTRITO'].count().unstack('SEXO').fillna(0) \n",
    "\n",
    "t.plot(kind='bar', stacked=True, figsize=(12,6), color = ('lightgreen','r','b')) "
   ]
  },
  {
   "cell_type": "markdown",
   "metadata": {},
   "source": [
    "Como se puede observar, la mayoría de los accidentes se agrupan en el distrito centro, pero si lo comparamos se ve que este año hubo más accidentes que en 2018 (mostrado a continuación). Por otro lado, cabe destacar que los demás distritos continúan bastante estables, destacando como barrio con menor número de accidentes a Moratalaz."
   ]
  },
  {
   "cell_type": "markdown",
   "metadata": {},
   "source": [
    "**6. Número accidentes en 2018 agrupados por el distrito y diferenciado por sexo**"
   ]
  },
  {
   "cell_type": "code",
   "execution_count": 54,
   "metadata": {},
   "outputs": [
    {
     "data": {
      "text/html": [
       "<div>\n",
       "<style scoped>\n",
       "    .dataframe tbody tr th:only-of-type {\n",
       "        vertical-align: middle;\n",
       "    }\n",
       "\n",
       "    .dataframe tbody tr th {\n",
       "        vertical-align: top;\n",
       "    }\n",
       "\n",
       "    .dataframe thead th {\n",
       "        text-align: right;\n",
       "    }\n",
       "</style>\n",
       "<table border=\"1\" class=\"dataframe\">\n",
       "  <thead>\n",
       "    <tr style=\"text-align: right;\">\n",
       "      <th></th>\n",
       "      <th>FECHA</th>\n",
       "      <th>*  Nº VICTIMAS</th>\n",
       "      <th>DISTRITO</th>\n",
       "      <th>SEXO</th>\n",
       "    </tr>\n",
       "  </thead>\n",
       "  <tbody>\n",
       "    <tr>\n",
       "      <th>0</th>\n",
       "      <td>2018-01-01</td>\n",
       "      <td>1</td>\n",
       "      <td>ARGANZUELA</td>\n",
       "      <td>HOMBRE</td>\n",
       "    </tr>\n",
       "    <tr>\n",
       "      <th>1</th>\n",
       "      <td>2018-01-01</td>\n",
       "      <td>2</td>\n",
       "      <td>CENTRO</td>\n",
       "      <td>HOMBRE</td>\n",
       "    </tr>\n",
       "    <tr>\n",
       "      <th>2</th>\n",
       "      <td>2018-01-02</td>\n",
       "      <td>2</td>\n",
       "      <td>SALAMANCA</td>\n",
       "      <td>HOMBRE</td>\n",
       "    </tr>\n",
       "    <tr>\n",
       "      <th>3</th>\n",
       "      <td>2018-01-03</td>\n",
       "      <td>1</td>\n",
       "      <td>SALAMANCA</td>\n",
       "      <td>HOMBRE</td>\n",
       "    </tr>\n",
       "    <tr>\n",
       "      <th>4</th>\n",
       "      <td>2018-01-03</td>\n",
       "      <td>1</td>\n",
       "      <td>CIUDAD LINEAL</td>\n",
       "      <td>HOMBRE</td>\n",
       "    </tr>\n",
       "  </tbody>\n",
       "</table>\n",
       "</div>"
      ],
      "text/plain": [
       "       FECHA  *  Nº VICTIMAS                        DISTRITO    SEXO\n",
       "0 2018-01-01               1  ARGANZUELA                      HOMBRE\n",
       "1 2018-01-01               2  CENTRO                          HOMBRE\n",
       "2 2018-01-02               2  SALAMANCA                       HOMBRE\n",
       "3 2018-01-03               1  SALAMANCA                       HOMBRE\n",
       "4 2018-01-03               1  CIUDAD LINEAL                   HOMBRE"
      ]
     },
     "execution_count": 54,
     "metadata": {},
     "output_type": "execute_result"
    }
   ],
   "source": [
    "b18 = pd.DataFrame(dfAccidentes18, columns = ['FECHA', '*  Nº VICTIMAS', 'DISTRITO', 'SEXO'])\n",
    "b18.head()"
   ]
  },
  {
   "cell_type": "code",
   "execution_count": 55,
   "metadata": {},
   "outputs": [],
   "source": [
    "# Cambiamos el tipo de 'FECHA' para poder trabajar con ella\n",
    "b18['FECHA'] = b18['FECHA'].apply(lambda x: x.strftime('%Y-%m-%d'))"
   ]
  },
  {
   "cell_type": "code",
   "execution_count": 56,
   "metadata": {},
   "outputs": [
    {
     "data": {
      "text/plain": [
       "<matplotlib.axes._subplots.AxesSubplot at 0x29a81d49d30>"
      ]
     },
     "execution_count": 56,
     "metadata": {},
     "output_type": "execute_result"
    },
    {
     "data": {
      "image/png": "[encoded data removed]",
      "text/plain": [
       "<Figure size 864x432 with 1 Axes>"
      ]
     },
     "metadata": {},
     "output_type": "display_data"
    }
   ],
   "source": [
    "# Gráfico que muestra el número accidentes en 2018 agrupados por el distrito y diferenciado por sexo\n",
    "t = b18.groupby(['DISTRITO', 'SEXO'])['DISTRITO'].count().unstack('SEXO').fillna(0) \n",
    "\n",
    "t.plot(kind='bar', stacked=True, figsize=(12,6)) "
   ]
  },
  {
   "cell_type": "markdown",
   "metadata": {},
   "source": [
    "En este caso, el distrito Centro sigue siendo el mayor con respecto a número de accidentes en ese año, lo cual puede estar relacionado con el uso de BiciMad ya que, como mostramos anteriormente, la mayoría de las bases de BiciMad se centran el el distrito Centro. Cabe destacar que la mayoría son hombres y los barrios con menor número de accidentes son: Barajas y Vicalvaro."
   ]
  },
  {
   "cell_type": "markdown",
   "metadata": {},
   "source": [
    "**7. Número de accidentes a lo largo de la semana cotejados con el sexo**"
   ]
  },
  {
   "cell_type": "code",
   "execution_count": 57,
   "metadata": {},
   "outputs": [
    {
     "data": {
      "text/plain": [
       "<matplotlib.axes._subplots.AxesSubplot at 0x29a8b83dd68>"
      ]
     },
     "execution_count": 57,
     "metadata": {},
     "output_type": "execute_result"
    },
    {
     "data": {
      "image/png": "[encoded data removed]",
      "text/plain": [
       "<Figure size 864x432 with 1 Axes>"
      ]
     },
     "metadata": {},
     "output_type": "display_data"
    },
    {
     "data": {
      "image/png": "[encoded data removed]",
      "text/plain": [
       "<Figure size 864x432 with 1 Axes>"
      ]
     },
     "metadata": {},
     "output_type": "display_data"
    }
   ],
   "source": [
    "# Gráficos que comparan el numero de accidentes a lo largo de la semana con el sexo\n",
    "# Gráfico2017\n",
    "t = dfAccidentes17.groupby(['DIA SEMANA', 'SEXO'])['DIA SEMANA'].count().unstack('SEXO').fillna(0) \n",
    "t.plot(kind='bar', stacked=True, figsize=(12,6), color= ('purple','yellow', 'grey'),title=('A��o 2017')) \n",
    "# Gráfico2018\n",
    "d = dfAccidentes18.groupby(['DIA SEMANA', 'SEXO'])['DIA SEMANA'].count().unstack('SEXO').fillna(0) \n",
    "d.plot(kind='bar', stacked=True, figsize=(12,6),color= ('brown','pink', 'orange'),title=('A��o 2018')) "
   ]
  },
  {
   "cell_type": "markdown",
   "metadata": {},
   "source": [
    "Como se puede observar, en ambos gráficos se mantiene constante la proporcion hombres/mujeres, con mayoría masculina. Además, no hay gran diferencia entre los accidentes\n",
    "a lo largo de los diferentes días de la semana."
   ]
  },
  {
   "cell_type": "markdown",
   "metadata": {},
   "source": [
    "### Análisis de Datos Bilateral"
   ]
  },
  {
   "cell_type": "markdown",
   "metadata": {},
   "source": [
    "Nuestro objetivo principal para el análisis conjunto de los datos de BiciMad y de accidentes con implicación de bicicletas era ver si hay alguna correlación entre el uso del servicio de la bicicleta eléctrica y la cantidad de accidentes que implican bicicletas en general.\n",
    "\n",
    "Para ello creamos varios dataframes nuevos:"
   ]
  },
  {
   "cell_type": "markdown",
   "metadata": {},
   "source": [
    "* **Usos Bicis 2017**"
   ]
  },
  {
   "cell_type": "code",
   "execution_count": 58,
   "metadata": {},
   "outputs": [
    {
     "data": {
      "text/html": [
       "<div>\n",
       "<style scoped>\n",
       "    .dataframe tbody tr th:only-of-type {\n",
       "        vertical-align: middle;\n",
       "    }\n",
       "\n",
       "    .dataframe tbody tr th {\n",
       "        vertical-align: top;\n",
       "    }\n",
       "\n",
       "    .dataframe thead th {\n",
       "        text-align: right;\n",
       "    }\n",
       "</style>\n",
       "<table border=\"1\" class=\"dataframe\">\n",
       "  <thead>\n",
       "    <tr style=\"text-align: right;\">\n",
       "      <th></th>\n",
       "      <th>DIA</th>\n",
       "      <th>Usos bicis total</th>\n",
       "    </tr>\n",
       "  </thead>\n",
       "  <tbody>\n",
       "    <tr>\n",
       "      <th>923</th>\n",
       "      <td>2017-01-01</td>\n",
       "      <td>1900</td>\n",
       "    </tr>\n",
       "    <tr>\n",
       "      <th>924</th>\n",
       "      <td>2017-01-02</td>\n",
       "      <td>3413</td>\n",
       "    </tr>\n",
       "    <tr>\n",
       "      <th>925</th>\n",
       "      <td>2017-01-03</td>\n",
       "      <td>4663</td>\n",
       "    </tr>\n",
       "    <tr>\n",
       "      <th>926</th>\n",
       "      <td>2017-01-04</td>\n",
       "      <td>5376</td>\n",
       "    </tr>\n",
       "    <tr>\n",
       "      <th>927</th>\n",
       "      <td>2017-01-05</td>\n",
       "      <td>5193</td>\n",
       "    </tr>\n",
       "  </tbody>\n",
       "</table>\n",
       "</div>"
      ],
      "text/plain": [
       "           DIA  Usos bicis total\n",
       "923 2017-01-01              1900\n",
       "924 2017-01-02              3413\n",
       "925 2017-01-03              4663\n",
       "926 2017-01-04              5376\n",
       "927 2017-01-05              5193"
      ]
     },
     "execution_count": 58,
     "metadata": {},
     "output_type": "execute_result"
    }
   ],
   "source": [
    "# Creamos un dataframe con los usos totales de bicis de 2017\n",
    "UsosTotal17 = dfUsos.loc[923:1287 , ['DIA','Usos bicis total']]\n",
    "UsosTotal17.head()"
   ]
  },
  {
   "cell_type": "code",
   "execution_count": 59,
   "metadata": {},
   "outputs": [
    {
     "data": {
      "text/html": [
       "<div>\n",
       "<style scoped>\n",
       "    .dataframe tbody tr th:only-of-type {\n",
       "        vertical-align: middle;\n",
       "    }\n",
       "\n",
       "    .dataframe tbody tr th {\n",
       "        vertical-align: top;\n",
       "    }\n",
       "\n",
       "    .dataframe thead th {\n",
       "        text-align: right;\n",
       "    }\n",
       "</style>\n",
       "<table border=\"1\" class=\"dataframe\">\n",
       "  <thead>\n",
       "    <tr style=\"text-align: right;\">\n",
       "      <th></th>\n",
       "      <th>FECHA</th>\n",
       "      <th>Usos bicis total</th>\n",
       "    </tr>\n",
       "  </thead>\n",
       "  <tbody>\n",
       "    <tr>\n",
       "      <th>923</th>\n",
       "      <td>2017-01-01</td>\n",
       "      <td>1900</td>\n",
       "    </tr>\n",
       "    <tr>\n",
       "      <th>924</th>\n",
       "      <td>2017-01-02</td>\n",
       "      <td>3413</td>\n",
       "    </tr>\n",
       "    <tr>\n",
       "      <th>925</th>\n",
       "      <td>2017-01-03</td>\n",
       "      <td>4663</td>\n",
       "    </tr>\n",
       "    <tr>\n",
       "      <th>926</th>\n",
       "      <td>2017-01-04</td>\n",
       "      <td>5376</td>\n",
       "    </tr>\n",
       "    <tr>\n",
       "      <th>927</th>\n",
       "      <td>2017-01-05</td>\n",
       "      <td>5193</td>\n",
       "    </tr>\n",
       "  </tbody>\n",
       "</table>\n",
       "</div>"
      ],
      "text/plain": [
       "         FECHA  Usos bicis total\n",
       "923 2017-01-01              1900\n",
       "924 2017-01-02              3413\n",
       "925 2017-01-03              4663\n",
       "926 2017-01-04              5376\n",
       "927 2017-01-05              5193"
      ]
     },
     "execution_count": 59,
     "metadata": {},
     "output_type": "execute_result"
    }
   ],
   "source": [
    "# Cambiamos el nombre de la columna DIA para que se llame igual que la columna que marca la fecha en el dataframe AccidentesTotal1718\n",
    "UsosTotal17 = UsosTotal17.rename(columns={'DIA': 'FECHA'})\n",
    "UsosTotal17.head()"
   ]
  },
  {
   "cell_type": "code",
   "execution_count": 60,
   "metadata": {},
   "outputs": [],
   "source": [
    "# Cambiamos el tipo de 'FECHA' para poder trabajar con ella\n",
    "from datetime import datetime, date\n",
    "UsosTotal17['FECHA'] = UsosTotal17['FECHA'].apply(lambda x: x.strftime('%Y-%m-%d'))"
   ]
  },
  {
   "cell_type": "code",
   "execution_count": 61,
   "metadata": {},
   "outputs": [
    {
     "data": {
      "text/plain": [
       "FECHA               2017-01-012017-01-022017-01-032017-01-042017-0...\n",
       "Usos bicis total                                              3350099\n",
       "dtype: object"
      ]
     },
     "execution_count": 61,
     "metadata": {},
     "output_type": "execute_result"
    }
   ],
   "source": [
    "UsosTotal17.sum()"
   ]
  },
  {
   "cell_type": "markdown",
   "metadata": {},
   "source": [
    "* **Usos Bicis 2018**"
   ]
  },
  {
   "cell_type": "code",
   "execution_count": 62,
   "metadata": {},
   "outputs": [
    {
     "data": {
      "text/html": [
       "<div>\n",
       "<style scoped>\n",
       "    .dataframe tbody tr th:only-of-type {\n",
       "        vertical-align: middle;\n",
       "    }\n",
       "\n",
       "    .dataframe tbody tr th {\n",
       "        vertical-align: top;\n",
       "    }\n",
       "\n",
       "    .dataframe thead th {\n",
       "        text-align: right;\n",
       "    }\n",
       "</style>\n",
       "<table border=\"1\" class=\"dataframe\">\n",
       "  <thead>\n",
       "    <tr style=\"text-align: right;\">\n",
       "      <th></th>\n",
       "      <th>DIA</th>\n",
       "      <th>Usos bicis total</th>\n",
       "    </tr>\n",
       "  </thead>\n",
       "  <tbody>\n",
       "    <tr>\n",
       "      <th>1288</th>\n",
       "      <td>2018-01-01</td>\n",
       "      <td>3769</td>\n",
       "    </tr>\n",
       "    <tr>\n",
       "      <th>1289</th>\n",
       "      <td>2018-01-02</td>\n",
       "      <td>6649</td>\n",
       "    </tr>\n",
       "    <tr>\n",
       "      <th>1290</th>\n",
       "      <td>2018-01-03</td>\n",
       "      <td>7889</td>\n",
       "    </tr>\n",
       "    <tr>\n",
       "      <th>1291</th>\n",
       "      <td>2018-01-04</td>\n",
       "      <td>8464</td>\n",
       "    </tr>\n",
       "    <tr>\n",
       "      <th>1292</th>\n",
       "      <td>2018-01-05</td>\n",
       "      <td>5947</td>\n",
       "    </tr>\n",
       "  </tbody>\n",
       "</table>\n",
       "</div>"
      ],
      "text/plain": [
       "            DIA  Usos bicis total\n",
       "1288 2018-01-01              3769\n",
       "1289 2018-01-02              6649\n",
       "1290 2018-01-03              7889\n",
       "1291 2018-01-04              8464\n",
       "1292 2018-01-05              5947"
      ]
     },
     "execution_count": 62,
     "metadata": {},
     "output_type": "execute_result"
    }
   ],
   "source": [
    "# Creamos un dataframe con los usos totales de bicis de 2018\n",
    "UsosTotal18 = dfUsos.loc[1288:1622 , ['DIA', 'Usos bicis total']]\n",
    "UsosTotal18.head()"
   ]
  },
  {
   "cell_type": "code",
   "execution_count": 63,
   "metadata": {},
   "outputs": [
    {
     "data": {
      "text/html": [
       "<div>\n",
       "<style scoped>\n",
       "    .dataframe tbody tr th:only-of-type {\n",
       "        vertical-align: middle;\n",
       "    }\n",
       "\n",
       "    .dataframe tbody tr th {\n",
       "        vertical-align: top;\n",
       "    }\n",
       "\n",
       "    .dataframe thead th {\n",
       "        text-align: right;\n",
       "    }\n",
       "</style>\n",
       "<table border=\"1\" class=\"dataframe\">\n",
       "  <thead>\n",
       "    <tr style=\"text-align: right;\">\n",
       "      <th></th>\n",
       "      <th>FECHA</th>\n",
       "      <th>Usos bicis total</th>\n",
       "    </tr>\n",
       "  </thead>\n",
       "  <tbody>\n",
       "    <tr>\n",
       "      <th>1288</th>\n",
       "      <td>2018-01-01</td>\n",
       "      <td>3769</td>\n",
       "    </tr>\n",
       "    <tr>\n",
       "      <th>1289</th>\n",
       "      <td>2018-01-02</td>\n",
       "      <td>6649</td>\n",
       "    </tr>\n",
       "    <tr>\n",
       "      <th>1290</th>\n",
       "      <td>2018-01-03</td>\n",
       "      <td>7889</td>\n",
       "    </tr>\n",
       "    <tr>\n",
       "      <th>1291</th>\n",
       "      <td>2018-01-04</td>\n",
       "      <td>8464</td>\n",
       "    </tr>\n",
       "    <tr>\n",
       "      <th>1292</th>\n",
       "      <td>2018-01-05</td>\n",
       "      <td>5947</td>\n",
       "    </tr>\n",
       "  </tbody>\n",
       "</table>\n",
       "</div>"
      ],
      "text/plain": [
       "          FECHA  Usos bicis total\n",
       "1288 2018-01-01              3769\n",
       "1289 2018-01-02              6649\n",
       "1290 2018-01-03              7889\n",
       "1291 2018-01-04              8464\n",
       "1292 2018-01-05              5947"
      ]
     },
     "execution_count": 63,
     "metadata": {},
     "output_type": "execute_result"
    }
   ],
   "source": [
    "# Cambiamos el nombre de la columna DIA para que se llame igual que la columna que marca la fecha en el dataframe AccidentesTotal1718\n",
    "UsosTotal18 = UsosTotal18.rename(columns={'DIA': 'FECHA'})\n",
    "UsosTotal18.head()"
   ]
  },
  {
   "cell_type": "code",
   "execution_count": 64,
   "metadata": {},
   "outputs": [],
   "source": [
    "# Cambiamos el tipo de 'FECHA' para poder trabajar con ella\n",
    "from datetime import datetime, date\n",
    "UsosTotal18['FECHA'] = UsosTotal18['FECHA'].apply(lambda x: x.strftime('%Y-%m-%d'))"
   ]
  },
  {
   "cell_type": "markdown",
   "metadata": {},
   "source": [
    "* **Nº Víctimas Accidentes Bicicletas 2017**"
   ]
  },
  {
   "cell_type": "code",
   "execution_count": 65,
   "metadata": {},
   "outputs": [
    {
     "data": {
      "text/html": [
       "<div>\n",
       "<style scoped>\n",
       "    .dataframe tbody tr th:only-of-type {\n",
       "        vertical-align: middle;\n",
       "    }\n",
       "\n",
       "    .dataframe tbody tr th {\n",
       "        vertical-align: top;\n",
       "    }\n",
       "\n",
       "    .dataframe thead th {\n",
       "        text-align: right;\n",
       "    }\n",
       "</style>\n",
       "<table border=\"1\" class=\"dataframe\">\n",
       "  <thead>\n",
       "    <tr style=\"text-align: right;\">\n",
       "      <th></th>\n",
       "      <th>FECHA</th>\n",
       "      <th>Nº VICTIMAS *</th>\n",
       "    </tr>\n",
       "  </thead>\n",
       "  <tbody>\n",
       "    <tr>\n",
       "      <th>0</th>\n",
       "      <td>2017-01-01</td>\n",
       "      <td>1</td>\n",
       "    </tr>\n",
       "    <tr>\n",
       "      <th>1</th>\n",
       "      <td>2017-01-02</td>\n",
       "      <td>1</td>\n",
       "    </tr>\n",
       "    <tr>\n",
       "      <th>2</th>\n",
       "      <td>2017-01-03</td>\n",
       "      <td>1</td>\n",
       "    </tr>\n",
       "    <tr>\n",
       "      <th>3</th>\n",
       "      <td>2017-01-04</td>\n",
       "      <td>1</td>\n",
       "    </tr>\n",
       "    <tr>\n",
       "      <th>4</th>\n",
       "      <td>2017-01-05</td>\n",
       "      <td>1</td>\n",
       "    </tr>\n",
       "  </tbody>\n",
       "</table>\n",
       "</div>"
      ],
      "text/plain": [
       "       FECHA  Nº VICTIMAS *\n",
       "0 2017-01-01              1\n",
       "1 2017-01-02              1\n",
       "2 2017-01-03              1\n",
       "3 2017-01-04              1\n",
       "4 2017-01-05              1"
      ]
     },
     "execution_count": 65,
     "metadata": {},
     "output_type": "execute_result"
    }
   ],
   "source": [
    "# Creamos un dataframe que solo tenga las columnas FECHA y Nª VICTIMAS del año 2017\n",
    "a = pd.DataFrame(dfAccidentes17, columns = ['FECHA', 'Nº VICTIMAS *'])\n",
    "a.head()"
   ]
  },
  {
   "cell_type": "code",
   "execution_count": 66,
   "metadata": {},
   "outputs": [],
   "source": [
    "# Cambiamos el tipo de 'FECHA' para poder trabajar con ella\n",
    "from datetime import datetime, date\n",
    "a['FECHA'] = a['FECHA'].apply(lambda x: x.strftime('%Y-%m-%d'))"
   ]
  },
  {
   "cell_type": "code",
   "execution_count": 67,
   "metadata": {},
   "outputs": [
    {
     "data": {
      "text/plain": [
       "FECHA            2017-01-012017-01-022017-01-032017-01-042017-0...\n",
       "Nº VICTIMAS *                                                  831\n",
       "dtype: object"
      ]
     },
     "execution_count": 67,
     "metadata": {},
     "output_type": "execute_result"
    }
   ],
   "source": [
    "a.sum()"
   ]
  },
  {
   "cell_type": "markdown",
   "metadata": {},
   "source": [
    "* **Nº Víctimas Accidentes Bicicletas 2018**"
   ]
  },
  {
   "cell_type": "code",
   "execution_count": 68,
   "metadata": {},
   "outputs": [
    {
     "data": {
      "text/html": [
       "<div>\n",
       "<style scoped>\n",
       "    .dataframe tbody tr th:only-of-type {\n",
       "        vertical-align: middle;\n",
       "    }\n",
       "\n",
       "    .dataframe tbody tr th {\n",
       "        vertical-align: top;\n",
       "    }\n",
       "\n",
       "    .dataframe thead th {\n",
       "        text-align: right;\n",
       "    }\n",
       "</style>\n",
       "<table border=\"1\" class=\"dataframe\">\n",
       "  <thead>\n",
       "    <tr style=\"text-align: right;\">\n",
       "      <th></th>\n",
       "      <th>FECHA</th>\n",
       "      <th>*  Nº VICTIMAS</th>\n",
       "    </tr>\n",
       "  </thead>\n",
       "  <tbody>\n",
       "    <tr>\n",
       "      <th>0</th>\n",
       "      <td>2018-01-01</td>\n",
       "      <td>1</td>\n",
       "    </tr>\n",
       "    <tr>\n",
       "      <th>1</th>\n",
       "      <td>2018-01-01</td>\n",
       "      <td>2</td>\n",
       "    </tr>\n",
       "    <tr>\n",
       "      <th>2</th>\n",
       "      <td>2018-01-02</td>\n",
       "      <td>2</td>\n",
       "    </tr>\n",
       "    <tr>\n",
       "      <th>3</th>\n",
       "      <td>2018-01-03</td>\n",
       "      <td>1</td>\n",
       "    </tr>\n",
       "    <tr>\n",
       "      <th>4</th>\n",
       "      <td>2018-01-03</td>\n",
       "      <td>1</td>\n",
       "    </tr>\n",
       "  </tbody>\n",
       "</table>\n",
       "</div>"
      ],
      "text/plain": [
       "       FECHA  *  Nº VICTIMAS\n",
       "0 2018-01-01               1\n",
       "1 2018-01-01               2\n",
       "2 2018-01-02               2\n",
       "3 2018-01-03               1\n",
       "4 2018-01-03               1"
      ]
     },
     "execution_count": 68,
     "metadata": {},
     "output_type": "execute_result"
    }
   ],
   "source": [
    "# Creamos un dataframe que solo tenga las columnas FECHA y Nª VICTIMAS del año 2018\n",
    "b = pd.DataFrame(dfAccidentes18, columns = ['FECHA', '*  Nº VICTIMAS'])\n",
    "b.head()"
   ]
  },
  {
   "cell_type": "code",
   "execution_count": 69,
   "metadata": {},
   "outputs": [],
   "source": [
    "# Cambiamos el tipo de 'DIA' para poder trabajar con ella.\n",
    "from datetime import datetime, date\n",
    "b['FECHA'] = b['FECHA'].apply(lambda x: x.strftime('%Y-%m-%d'))"
   ]
  },
  {
   "cell_type": "code",
   "execution_count": 70,
   "metadata": {},
   "outputs": [
    {
     "data": {
      "text/plain": [
       "FECHA             2018-01-012018-01-012018-01-022018-01-032018-0...\n",
       "*  Nº VICTIMAS                                                  755\n",
       "dtype: object"
      ]
     },
     "execution_count": 70,
     "metadata": {},
     "output_type": "execute_result"
    }
   ],
   "source": [
    "b.sum()"
   ]
  },
  {
   "cell_type": "markdown",
   "metadata": {},
   "source": [
    "**Procedemos al análisis:**"
   ]
  },
  {
   "cell_type": "markdown",
   "metadata": {},
   "source": [
    "**1. Uso Total vs. Nº Víctimas Accidentes Bicicletas 2017**"
   ]
  },
  {
   "cell_type": "code",
   "execution_count": 71,
   "metadata": {},
   "outputs": [
    {
     "data": {
      "text/html": [
       "<div>\n",
       "<style scoped>\n",
       "    .dataframe tbody tr th:only-of-type {\n",
       "        vertical-align: middle;\n",
       "    }\n",
       "\n",
       "    .dataframe tbody tr th {\n",
       "        vertical-align: top;\n",
       "    }\n",
       "\n",
       "    .dataframe thead th {\n",
       "        text-align: right;\n",
       "    }\n",
       "</style>\n",
       "<table border=\"1\" class=\"dataframe\">\n",
       "  <thead>\n",
       "    <tr style=\"text-align: right;\">\n",
       "      <th></th>\n",
       "      <th>FECHA</th>\n",
       "      <th>Nº VICTIMAS *</th>\n",
       "      <th>Usos bicis total</th>\n",
       "    </tr>\n",
       "  </thead>\n",
       "  <tbody>\n",
       "    <tr>\n",
       "      <th>0</th>\n",
       "      <td>2017-01-01</td>\n",
       "      <td>1</td>\n",
       "      <td>1900</td>\n",
       "    </tr>\n",
       "    <tr>\n",
       "      <th>1</th>\n",
       "      <td>2017-01-02</td>\n",
       "      <td>1</td>\n",
       "      <td>3413</td>\n",
       "    </tr>\n",
       "    <tr>\n",
       "      <th>2</th>\n",
       "      <td>2017-01-03</td>\n",
       "      <td>1</td>\n",
       "      <td>4663</td>\n",
       "    </tr>\n",
       "    <tr>\n",
       "      <th>3</th>\n",
       "      <td>2017-01-04</td>\n",
       "      <td>1</td>\n",
       "      <td>5376</td>\n",
       "    </tr>\n",
       "    <tr>\n",
       "      <th>4</th>\n",
       "      <td>2017-01-05</td>\n",
       "      <td>1</td>\n",
       "      <td>5193</td>\n",
       "    </tr>\n",
       "  </tbody>\n",
       "</table>\n",
       "</div>"
      ],
      "text/plain": [
       "        FECHA  Nº VICTIMAS *  Usos bicis total\n",
       "0  2017-01-01              1              1900\n",
       "1  2017-01-02              1              3413\n",
       "2  2017-01-03              1              4663\n",
       "3  2017-01-04              1              5376\n",
       "4  2017-01-05              1              5193"
      ]
     },
     "execution_count": 71,
     "metadata": {},
     "output_type": "execute_result"
    }
   ],
   "source": [
    "# Unimos los dos dataframes\n",
    "sa = pd.merge(a, UsosTotal17, on=['FECHA'])\n",
    "sa.head()"
   ]
  },
  {
   "cell_type": "code",
   "execution_count": 72,
   "metadata": {},
   "outputs": [
    {
     "data": {
      "image/png": "[encoded data removed]",
      "text/plain": [
       "<Figure size 1080x1080 with 3 Axes>"
      ]
     },
     "metadata": {},
     "output_type": "display_data"
    }
   ],
   "source": [
    "sns.set(style=\"darkgrid\")\n",
    "\n",
    "data = pd.DataFrame()\n",
    "g = sns.jointplot(\"Usos bicis total\", \"Nº VICTIMAS *\", data=sa, kind=\"reg\",\n",
    "                   color=\"m\", height=15)"
   ]
  },
  {
   "cell_type": "markdown",
   "metadata": {},
   "source": [
    "Este gráfico esta comparando el número de víctimas que habido en el año 2017 con el usos de bicis  total del tipo BiciMad ese mismo año. Observamos que el mayor numero de víctimas que se produce es tres, en dos ocasiones, pero no coincide con el momento en el que ha habido mayor uso de bicimad, por lo que intuimos que no ha sido por implicación de estas, sino de bicicletas ajenas a esta aplicación. Por otro lado vemos que una y dos víctimas se causan de manera constante entre los niveles medios del uso de bicis. La linea de regresión nos indica que no hay gran variación, como concluíamos anteriormente. "
   ]
  },
  {
   "cell_type": "markdown",
   "metadata": {},
   "source": [
    "**2. Uso Total vs. Nº Víctimas Accidentes Bicicletas 2018**"
   ]
  },
  {
   "cell_type": "code",
   "execution_count": 73,
   "metadata": {},
   "outputs": [
    {
     "data": {
      "text/html": [
       "<div>\n",
       "<style scoped>\n",
       "    .dataframe tbody tr th:only-of-type {\n",
       "        vertical-align: middle;\n",
       "    }\n",
       "\n",
       "    .dataframe tbody tr th {\n",
       "        vertical-align: top;\n",
       "    }\n",
       "\n",
       "    .dataframe thead th {\n",
       "        text-align: right;\n",
       "    }\n",
       "</style>\n",
       "<table border=\"1\" class=\"dataframe\">\n",
       "  <thead>\n",
       "    <tr style=\"text-align: right;\">\n",
       "      <th></th>\n",
       "      <th>FECHA</th>\n",
       "      <th>*  Nº VICTIMAS</th>\n",
       "      <th>Usos bicis total</th>\n",
       "    </tr>\n",
       "  </thead>\n",
       "  <tbody>\n",
       "    <tr>\n",
       "      <th>0</th>\n",
       "      <td>2018-01-01</td>\n",
       "      <td>1</td>\n",
       "      <td>3769</td>\n",
       "    </tr>\n",
       "    <tr>\n",
       "      <th>1</th>\n",
       "      <td>2018-01-01</td>\n",
       "      <td>2</td>\n",
       "      <td>3769</td>\n",
       "    </tr>\n",
       "    <tr>\n",
       "      <th>2</th>\n",
       "      <td>2018-01-02</td>\n",
       "      <td>2</td>\n",
       "      <td>6649</td>\n",
       "    </tr>\n",
       "    <tr>\n",
       "      <th>3</th>\n",
       "      <td>2018-01-03</td>\n",
       "      <td>1</td>\n",
       "      <td>7889</td>\n",
       "    </tr>\n",
       "    <tr>\n",
       "      <th>4</th>\n",
       "      <td>2018-01-03</td>\n",
       "      <td>1</td>\n",
       "      <td>7889</td>\n",
       "    </tr>\n",
       "  </tbody>\n",
       "</table>\n",
       "</div>"
      ],
      "text/plain": [
       "        FECHA  *  Nº VICTIMAS  Usos bicis total\n",
       "0  2018-01-01               1              3769\n",
       "1  2018-01-01               2              3769\n",
       "2  2018-01-02               2              6649\n",
       "3  2018-01-03               1              7889\n",
       "4  2018-01-03               1              7889"
      ]
     },
     "execution_count": 73,
     "metadata": {},
     "output_type": "execute_result"
    }
   ],
   "source": [
    "# Unimos los dos dataframes\n",
    "sb = pd.merge(b, UsosTotal18, on=['FECHA'])\n",
    "sb.head()"
   ]
  },
  {
   "cell_type": "code",
   "execution_count": 74,
   "metadata": {},
   "outputs": [
    {
     "data": {
      "image/png": "[encoded data removed]",
      "text/plain": [
       "<Figure size 1080x1080 with 3 Axes>"
      ]
     },
     "metadata": {},
     "output_type": "display_data"
    }
   ],
   "source": [
    "sns.set(style=\"darkgrid\")\n",
    "\n",
    "data = pd.DataFrame()\n",
    "g = sns.jointplot(\"Usos bicis total\", \"*  Nº VICTIMAS\", data=sb, kind=\"reg\",\n",
    "                   color=\"g\", height=15)"
   ]
  },
  {
   "cell_type": "markdown",
   "metadata": {},
   "source": [
    "El gráfico mostrado anteriormente, muestra el número de víctimas durante el año 2018 y el número de usos de bicis total del tipo BiciMad también ese año. Podemos ver que la mayoría de veces se produce una víctima y seguido, dos víctimas. Caben destacar tres casos de 3 víctimas y un outlier de 14 víctimas. Siempre se suelen producir en los valores medios del número total de usos de bicis, por lo que no podemos concluir si estos accidentes han sido por implicación de BiciMad o no."
   ]
  }
 ],
 "metadata": {
  "kernelspec": {
   "display_name": "Python 3",
   "language": "python",
   "name": "python3"
  },
  "language_info": {
   "codemirror_mode": {
    "name": "ipython",
    "version": 3
   },
   "file_extension": ".py",
   "mimetype": "text/x-python",
   "name": "python",
   "nbconvert_exporter": "python",
   "pygments_lexer": "ipython3",
   "version": "3.7.1"
  }
 },
 "nbformat": 4,
 "nbformat_minor": 2
}
